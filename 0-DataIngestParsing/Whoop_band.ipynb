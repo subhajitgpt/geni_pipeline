{
 "cells": [
  {
   "cell_type": "code",
   "execution_count": null,
   "id": "9dde2a1d-2060-49a3-8f58-85292f02b5dc",
   "metadata": {},
   "outputs": [
    {
     "name": "stdout",
     "output_type": "stream",
     "text": [
      "Enter your fitness question or goal (e.g., 'How can I improve my running performance?'):  summarise my running\n"
     ]
    },
    {
     "name": "stdout",
     "output_type": "stream",
     "text": [
      "LLM-Generated Fitness Recommendation:\n",
      "\n",
      "Based on your recent workout data, you've completed a total of 37 running sessions. Through these sessions, you're averaging a duration of approximately 56.86 minutes. During these running workouts, your max heart rate is approximately 168.49 beats per minute, indicating that you are pushing your cardiovascular fitness to its peak. The strain from your activity totals around 7.8 and you're burning an average of 241.15 calories per session. This means that you average about 6.64 calories burned per minute. \n",
      "\n",
      "To enhance your running capacity further or, at least, to maintain your current performance, consider incorporating interval training or hill sessions, if not already included in your regimen. This can help improve your max heart rate. Additionally, try to aim for a balanced meal post-run, which can help recover muscles and replenish energy more effectively. Keep up the impressive work!\n"
     ]
    }
   ],
   "source": [
    "import pandas as pd\n",
    "import openai\n",
    "\n",
    "# Load your CSV\n",
    "df = pd.read_csv(\"workouts_today.csv\")\n",
    "\n",
    "# Feature engineering\n",
    "df[\"Workout_Duration_Hours\"] = df[\"Duration_(min)\"] / 60\n",
    "df[\"Is_Running\"] = (df[\"Activity_name\"].str.lower() == \"running\").astype(int)\n",
    "df[\"Is_Yoga\"] = (df[\"Activity_name\"].str.lower() == \"yoga\").astype(int)\n",
    "df[\"Avg_HR_Percent_of_Max\"] = df[\"Average_HR_(bpm)\"] / df[\"Max_HR_(bpm)\"]\n",
    "df[\"Total_HR_Zone_Active_%\"] = (\n",
    "    df[\"HR_Zone_1 %\"] + df[\"HR_Zone_2 %\"] + df[\"HR_ Zone_3 %\"] +\n",
    "    df[\"HR_Zone_4 %\"] + df[\"HR_Zone_5%\"]\n",
    ")\n",
    "df[\"Energy_per_min\"] = df[\"Energy_burned_(cal)\"] / df[\"Duration_(min)\"]\n",
    "\n",
    "# Aggregate features\n",
    "summary = {\n",
    "    \"Total Workouts\": len(df),\n",
    "    \"Total Yoga Sessions\": df[\"Is_Yoga\"].sum(),\n",
    "    \"Total Running Sessions\": df[\"Is_Running\"].sum(),\n",
    "    \"Avg Duration (min)\": df[\"Duration_(min)\"].mean(),\n",
    "    \"Avg Activity Strain\": df[\"Activity_Strain\"].mean(),\n",
    "    \"Avg Energy Burned (cal)\": df[\"Energy_burned_(cal)\"].mean(),\n",
    "    \"Avg Max HR (bpm)\": df[\"Max_HR_(bpm)\"].mean(),\n",
    "    \"Avg HR % of Max\": df[\"Avg_HR_Percent_of_Max\"].mean(),\n",
    "    \"Avg Energy per min\": df[\"Energy_per_min\"].mean(),\n",
    "}\n",
    "\n",
    "# Save engineered features\n",
    "df.to_csv(\"engineered_features.csv\", index=False)\n",
    "\n",
    "# Prepare summary string\n",
    "summary_str = \"\\n\".join([f\"{k}: {v:.2f}\" for k, v in summary.items()])\n",
    "\n",
    "# Get user prompt\n",
    "user_question = input(\"Enter your fitness question or goal (e.g., 'How can I improve my running performance?'): \")\n",
    "\n",
    "# Prepare prompt for OpenAI\n",
    "prompt = f\"\"\"\n",
    "You are a fitness coach. Here are summary statistics from a user's recent workouts:\n",
    "\n",
    "{summary_str}\n",
    "\n",
    "User's question/goal: {user_question}\n",
    "\n",
    "Based on these, provide a concise, actionable answer.\n",
    "\"\"\"\n",
    "\n",
    "# Set your OpenAI API key\n",
    "openai.api_key = \"\"\n",
    "# Get recommendation from OpenAI\n",
    "response = openai.chat.completions.create(\n",
    "    model=\"gpt-4\",\n",
    "    messages=[\n",
    "        {\"role\": \"system\", \"content\": \"You are a helpful fitness coach.\"},\n",
    "        {\"role\": \"user\", \"content\": prompt}\n",
    "    ],\n",
    "    max_tokens=300\n",
    ")\n",
    "\n",
    "print(\"LLM-Generated Fitness Recommendation:\\n\")\n",
    "print(response.choices[0].message.content)"
   ]
  },
  {
   "cell_type": "code",
   "execution_count": null,
   "id": "e5684918-3ae9-4b3d-a55e-4b22d20821f6",
   "metadata": {},
   "outputs": [
    {
     "name": "stdout",
     "output_type": "stream",
     "text": [
      "Enter your question or instruction for the LLM (type 'q' to quit):  do i need weight training \n"
     ]
    },
    {
     "name": "stdout",
     "output_type": "stream",
     "text": [
      "\n",
      "LLM-Generated Insightful Summary:\n",
      "\n",
      "As a health data analyst, I can say that your decision to incorporate weight training into your regime may depend on your personal health and fitness goals, which are not detailed in the data you provided. \n",
      "\n",
      "Weight training has several potential benefits like increasing strength, muscle mass, bone density, and metabolic rate, supporting weight loss and overall fitness. However, one should always consult with a healthcare provider before starting a new physical training regimen, particularly if existing health conditions are present.\n",
      "\n",
      "Working on improving cardiovascular health and achieving sound, consistent sleep is also critical and can be inferred from the data you provided. For instance, your mean resting heart rate is relatively high, suggesting you might want to include more cardio exercise in your routine. Also, days with high sleep debt might be adversely impacting your recovery and overall health. Balancing your workouts with sufficient rest and recovery time will be key in improving these markers. \n",
      "\n",
      "Remember that everyone is unique, so it's essential to find an exercise routine that works for you while offering the benefits you seek.\n"
     ]
    }
   ],
   "source": [
    "import pandas as pd\n",
    "import openai\n",
    "\n",
    "# Load your data (tab-separated, adjust if needed)\n",
    "df = pd.read_csv('physiological_cycles_today.csv', sep=',')\n",
    "df.columns = df.columns.str.strip()  # Remove extra spaces\n",
    "\n",
    "# Calculate summary statistics for key metrics\n",
    "summary = {\n",
    "    \"Recovery_score_\": df[\"Recovery_score_\"].describe(),\n",
    "    \"Resting_heart_rate_(bpm)\": df[\"Resting_heart_rate_(bpm)\"].describe(),\n",
    "    \"Heart_rate_variability_(ms)\": df[\"Heart_rate_variability_(ms)\"].describe(),\n",
    "    \"Sleep_performance_\": df[\"Sleep_performance_\"].describe(),\n",
    "    \"Asleep_duration_(min)\": df[\"Asleep_duration_(min)\"].describe(),\n",
    "    \"Sleep_efficiency_\": df[\"Sleep_efficiency_\"].describe(),\n",
    "    \"Sleep_consistency_\": df[\"Sleep_consistency_\"].describe(),\n",
    "    \"Day_Strain\": df[\"Day_Strain\"].describe(),\n",
    "    \"Energy_burned_(cal)\": df[\"Energy_burned_(cal)\"].describe(),\n",
    "}\n",
    "\n",
    "low_recovery = df[df[\"Recovery_score_\"] < 50][[\"Cycle_start_time\", \"Recovery_score_\"]]\n",
    "high_sleep_debt = df[df[\"Sleep_debt_(min)\"] > 100][[\"Cycle_start_time\", \"Sleep_debt_(min)\"]]\n",
    "\n",
    "openai.api_key = ''\n",
    "\n",
    "summary_stats = {k: v.to_dict() for k, v in summary.items()}\n",
    "low_recovery_str = low_recovery.to_string(index=False)\n",
    "high_sleep_debt_str = high_sleep_debt.to_string(index=False)\n",
    "\n",
    "while True:\n",
    "    user_prompt = input(\"Enter your question or instruction for the LLM (type 'q' to quit): \")\n",
    "    if user_prompt.strip().lower() == 'q':\n",
    "        print(\"Exiting. Goodbye!\")\n",
    "        break\n",
    "\n",
    "    prompt = f\"\"\"\n",
    "You are a health data analyst. Here are summary statistics for a user's health and sleep data:\n",
    "\n",
    "Summary statistics:\n",
    "{summary_stats}\n",
    "\n",
    "Days with low recovery (<50):\n",
    "{low_recovery_str}\n",
    "\n",
    "Days with high sleep debt (>100 min):\n",
    "{high_sleep_debt_str}\n",
    "\n",
    "{user_prompt}\n",
    "\"\"\"\n",
    "\n",
    "    response = openai.chat.completions.create(\n",
    "        model=\"gpt-4\",\n",
    "        messages=[\n",
    "            {\"role\": \"system\", \"content\": \"You are a helpful health data analyst.\"},\n",
    "            {\"role\": \"user\", \"content\": prompt}\n",
    "        ],\n",
    "        max_tokens=400\n",
    "    )\n",
    "\n",
    "    print(\"\\nLLM-Generated Insightful Summary:\\n\")\n",
    "    print(response.choices[0].message.content)"
   ]
  },
  {
   "cell_type": "code",
   "execution_count": null,
   "id": "666ea314-3863-4f30-9507-0170f7e80ff2",
   "metadata": {},
   "outputs": [],
   "source": []
  }
 ],
 "metadata": {
  "kernelspec": {
   "display_name": "Python 3 (ipykernel)",
   "language": "python",
   "name": "python3"
  },
  "language_info": {
   "codemirror_mode": {
    "name": "ipython",
    "version": 3
   },
   "file_extension": ".py",
   "mimetype": "text/x-python",
   "name": "python",
   "nbconvert_exporter": "python",
   "pygments_lexer": "ipython3",
   "version": "3.12.7"
  }
 },
 "nbformat": 4,
 "nbformat_minor": 5
}
