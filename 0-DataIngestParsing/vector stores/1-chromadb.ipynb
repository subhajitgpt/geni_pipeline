{
 "cells": [
  {
   "cell_type": "markdown",
   "id": "e222d7e9",
   "metadata": {},
   "source": [
    "### Building a RAG System with LangChain and ChromaDB\n",
    "#### Introduction\n",
    "Retrieval-Augmented Generation (RAG) is a powerful technique that combines the capabilities of large language models with external knowledge retrieval. This notebook will walk you through building a complete RAG system using:\n",
    "\n",
    "- LangChain: A framework for developing applications powered by language models\n",
    "- ChromaDB: An open-source vector database for storing and retrieving embeddings\n",
    "- OpenAI: For embeddings and language model (you can substitute with other providers)"
   ]
  },
  {
   "cell_type": "code",
   "execution_count": 1,
   "id": "bbb9cb80",
   "metadata": {},
   "outputs": [
    {
     "data": {
      "text/plain": [
       "True"
      ]
     },
     "execution_count": 1,
     "metadata": {},
     "output_type": "execute_result"
    }
   ],
   "source": [
    "import os\n",
    "from dotenv import load_dotenv\n",
    "load_dotenv()"
   ]
  },
  {
   "cell_type": "code",
   "execution_count": 2,
   "id": "41ec2e78",
   "metadata": {},
   "outputs": [],
   "source": [
    "## langchain imports\n",
    "from langchain.text_splitter import RecursiveCharacterTextSplitter\n",
    "from langchain_community.document_loaders import TextLoader\n",
    "from langchain_openai import OpenAIEmbeddings\n",
    "from langchain.schema import Document\n",
    "\n",
    "## vectorstores\n",
    "from langchain_community.vectorstores import Chroma\n",
    "\n",
    "## utility imports\n",
    "import numpy as np\n",
    "from typing import List"
   ]
  },
  {
   "cell_type": "code",
   "execution_count": 3,
   "id": "d4d97e0b",
   "metadata": {},
   "outputs": [
    {
     "name": "stdout",
     "output_type": "stream",
     "text": [
      "\n",
      "RAG (Retrieval-Augmented Generation) Architecture:\n",
      "\n",
      "1. Document Loading: Load documents from various sources\n",
      "2. Document Splitting: Break documents into smaller chunks\n",
      "3. Embedding Generation: Convert chunks into vector representations\n",
      "4. Vector Storage: Store embeddings in ChromaDB\n",
      "5. Query Processing: Convert user query to embedding\n",
      "6. Similarity Search: Find relevant chunks from vector store\n",
      "7. Context Augmentation: Combine retrieved chunks with query\n",
      "8. Response Generation: LLM generates answer using context\n",
      "\n",
      "Benefits of RAG:\n",
      "- Reduces hallucinations\n",
      "- Provides up-to-date information\n",
      "- Allows citing sources\n",
      "- Works with domain-specific knowledge\n",
      "\n"
     ]
    }
   ],
   "source": [
    "# RAG Architecture Overview\n",
    "print(\"\"\"\n",
    "RAG (Retrieval-Augmented Generation) Architecture:\n",
    "\n",
    "1. Document Loading: Load documents from various sources\n",
    "2. Document Splitting: Break documents into smaller chunks\n",
    "3. Embedding Generation: Convert chunks into vector representations\n",
    "4. Vector Storage: Store embeddings in ChromaDB\n",
    "5. Query Processing: Convert user query to embedding\n",
    "6. Similarity Search: Find relevant chunks from vector store\n",
    "7. Context Augmentation: Combine retrieved chunks with query\n",
    "8. Response Generation: LLM generates answer using context\n",
    "\n",
    "Benefits of RAG:\n",
    "- Reduces hallucinations\n",
    "- Provides up-to-date information\n",
    "- Allows citing sources\n",
    "- Works with domain-specific knowledge\n",
    "\"\"\")"
   ]
  },
  {
   "cell_type": "markdown",
   "id": "eeef678d",
   "metadata": {},
   "source": [
    "### 1. Sample Data"
   ]
  },
  {
   "cell_type": "code",
   "execution_count": 4,
   "id": "2248bcd4",
   "metadata": {},
   "outputs": [
    {
     "data": {
      "text/plain": [
       "['\\n    Machine Learning Fundamentals\\n\\n    Machine learning is a subset of artificial intelligence that enables systems to learn \\n    and improve from experience without being explicitly programmed. There are three main \\n    types of machine learning: supervised learning, unsupervised learning, and reinforcement \\n    learning. Supervised learning uses labeled data to train models, while unsupervised \\n    learning finds patterns in unlabeled data. Reinforcement learning learns through \\n    interaction with an environment using rewards and penalties.\\n    ',\n",
       " '\\n    Deep Learning and Neural Networks\\n\\n    Deep learning is a subset of machine learning based on artificial neural networks. \\n    These networks are inspired by the human brain and consist of layers of interconnected \\n    nodes. Deep learning has revolutionized fields like computer vision, natural language \\n    processing, and speech recognition. Convolutional Neural Networks (CNNs) are particularly \\n    effective for image processing, while Recurrent Neural Networks (RNNs) and Transformers \\n    excel at sequential data processing.\\n    ',\n",
       " '\\n    Natural Language Processing (NLP)\\n\\n    NLP is a field of AI that focuses on the interaction between computers and human language. \\n    Key tasks in NLP include text classification, named entity recognition, sentiment analysis, \\n    machine translation, and question answering. Modern NLP heavily relies on transformer \\n    architectures like BERT, GPT, and T5. These models use attention mechanisms to understand \\n    context and relationships between words in text.\\n    ']"
      ]
     },
     "execution_count": 4,
     "metadata": {},
     "output_type": "execute_result"
    }
   ],
   "source": [
    "## create sample documents\n",
    "sample_docs = [\n",
    "    \"\"\"\n",
    "    Machine Learning Fundamentals\n",
    "    \n",
    "    Machine learning is a subset of artificial intelligence that enables systems to learn \n",
    "    and improve from experience without being explicitly programmed. There are three main \n",
    "    types of machine learning: supervised learning, unsupervised learning, and reinforcement \n",
    "    learning. Supervised learning uses labeled data to train models, while unsupervised \n",
    "    learning finds patterns in unlabeled data. Reinforcement learning learns through \n",
    "    interaction with an environment using rewards and penalties.\n",
    "    \"\"\",\n",
    "    \n",
    "    \"\"\"\n",
    "    Deep Learning and Neural Networks\n",
    "    \n",
    "    Deep learning is a subset of machine learning based on artificial neural networks. \n",
    "    These networks are inspired by the human brain and consist of layers of interconnected \n",
    "    nodes. Deep learning has revolutionized fields like computer vision, natural language \n",
    "    processing, and speech recognition. Convolutional Neural Networks (CNNs) are particularly \n",
    "    effective for image processing, while Recurrent Neural Networks (RNNs) and Transformers \n",
    "    excel at sequential data processing.\n",
    "    \"\"\",\n",
    "    \n",
    "    \"\"\"\n",
    "    Natural Language Processing (NLP)\n",
    "    \n",
    "    NLP is a field of AI that focuses on the interaction between computers and human language. \n",
    "    Key tasks in NLP include text classification, named entity recognition, sentiment analysis, \n",
    "    machine translation, and question answering. Modern NLP heavily relies on transformer \n",
    "    architectures like BERT, GPT, and T5. These models use attention mechanisms to understand \n",
    "    context and relationships between words in text.\n",
    "    \"\"\"\n",
    "]\n",
    "\n",
    "sample_docs\n"
   ]
  },
  {
   "cell_type": "code",
   "execution_count": 5,
   "id": "b308eee0",
   "metadata": {},
   "outputs": [
    {
     "name": "stdout",
     "output_type": "stream",
     "text": [
      "Sample document create in : C:\\Users\\Subhajit\\AppData\\Local\\Temp\\tmpvyssve9w\n"
     ]
    }
   ],
   "source": [
    "## save sample documents to files\n",
    "import tempfile\n",
    "temp_dir=tempfile.mkdtemp()\n",
    "\n",
    "for i,doc in enumerate(sample_docs):\n",
    "    with open(f\"{temp_dir}/doc_{i}.txt\",\"w\") as f:\n",
    "        f.write(doc)\n",
    "\n",
    "print(f\"Sample document create in : {temp_dir}\")"
   ]
  },
  {
   "cell_type": "code",
   "execution_count": 6,
   "id": "0dac0590",
   "metadata": {},
   "outputs": [],
   "source": [
    "## save sample documents to files\n",
    "import tempfile\n",
    "temp_dir=tempfile.mkdtemp()\n",
    "\n",
    "for i,doc in enumerate(sample_docs):\n",
    "    with open(f\"doc_{i}.txt\",\"w\") as f:\n",
    "        f.write(doc)\n",
    "\n"
   ]
  },
  {
   "cell_type": "code",
   "execution_count": 7,
   "id": "e6907ecc",
   "metadata": {},
   "outputs": [
    {
     "data": {
      "text/plain": [
       "'C:\\\\Users\\\\Subhajit\\\\AppData\\\\Local\\\\Temp\\\\tmpbr235pqc'"
      ]
     },
     "execution_count": 7,
     "metadata": {},
     "output_type": "execute_result"
    }
   ],
   "source": [
    "temp_dir"
   ]
  },
  {
   "cell_type": "markdown",
   "id": "ada15124",
   "metadata": {},
   "source": [
    "### 2. Document Loading"
   ]
  },
  {
   "cell_type": "code",
   "execution_count": 8,
   "id": "68b48ba3",
   "metadata": {},
   "outputs": [
    {
     "name": "stdout",
     "output_type": "stream",
     "text": [
      "Loaded 3 documents\n",
      "\n",
      "First document preview:\n",
      "\n",
      "    Machine Learning Fundamentals\n",
      "\n",
      "    Machine learning is a subset of artificial intelligence that enables systems to learn \n",
      "    and improve from experience without being explicitly programmed. Ther...\n"
     ]
    }
   ],
   "source": [
    "from langchain_community.document_loaders import DirectoryLoader,TextLoader\n",
    "\n",
    "# Load documents from directory\n",
    "loader = DirectoryLoader(\n",
    "    \"data\", \n",
    "    glob=\"*.txt\", \n",
    "    loader_cls=TextLoader,\n",
    "    loader_kwargs={'encoding': 'utf-8'}\n",
    ")\n",
    "documents = loader.load()\n",
    "\n",
    "print(f\"Loaded {len(documents)} documents\")\n",
    "print(f\"\\nFirst document preview:\")\n",
    "print(documents[0].page_content[:200] + \"...\")\n"
   ]
  },
  {
   "cell_type": "code",
   "execution_count": 9,
   "id": "851ae9d5",
   "metadata": {},
   "outputs": [
    {
     "data": {
      "text/plain": [
       "[Document(metadata={'source': 'data\\\\doc_0.txt'}, page_content='\\n    Machine Learning Fundamentals\\n\\n    Machine learning is a subset of artificial intelligence that enables systems to learn \\n    and improve from experience without being explicitly programmed. There are three main \\n    types of machine learning: supervised learning, unsupervised learning, and reinforcement \\n    learning. Supervised learning uses labeled data to train models, while unsupervised \\n    learning finds patterns in unlabeled data. Reinforcement learning learns through \\n    interaction with an environment using rewards and penalties.\\n    '),\n",
       " Document(metadata={'source': 'data\\\\doc_1.txt'}, page_content='\\n    Deep Learning and Neural Networks\\n\\n    Deep learning is a subset of machine learning based on artificial neural networks. \\n    These networks are inspired by the human brain and consist of layers of interconnected \\n    nodes. Deep learning has revolutionized fields like computer vision, natural language \\n    processing, and speech recognition. Convolutional Neural Networks (CNNs) are particularly \\n    effective for image processing, while Recurrent Neural Networks (RNNs) and Transformers \\n    excel at sequential data processing.\\n    '),\n",
       " Document(metadata={'source': 'data\\\\doc_2.txt'}, page_content='\\n    Natural Language Processing (NLP)\\n\\n    NLP is a field of AI that focuses on the interaction between computers and human language. \\n    Key tasks in NLP include text classification, named entity recognition, sentiment analysis, \\n    machine translation, and question answering. Modern NLP heavily relies on transformer \\n    architectures like BERT, GPT, and T5. These models use attention mechanisms to understand \\n    context and relationships between words in text.\\n    ')]"
      ]
     },
     "execution_count": 9,
     "metadata": {},
     "output_type": "execute_result"
    }
   ],
   "source": [
    "documents"
   ]
  },
  {
   "cell_type": "markdown",
   "id": "688807d4",
   "metadata": {},
   "source": [
    "### Document Splitting"
   ]
  },
  {
   "cell_type": "code",
   "execution_count": 10,
   "id": "a3620217",
   "metadata": {},
   "outputs": [
    {
     "name": "stdout",
     "output_type": "stream",
     "text": [
      "Created 5 chunks from 3 documents\n",
      "\n",
      "Chunk example:\n",
      "Content: Machine Learning Fundamentals\n",
      "\n",
      "    Machine learning is a subset of artificial intelligence that enables systems to learn \n",
      "    and improve from experie...\n",
      "Metadata: {'source': 'data\\\\doc_0.txt'}\n"
     ]
    }
   ],
   "source": [
    "# Initialize text splitter\n",
    "text_splitter = RecursiveCharacterTextSplitter(\n",
    "    chunk_size=500,  # Maximum size of each chunk\n",
    "    chunk_overlap=50,  # Overlap between chunks to maintain context\n",
    "    length_function=len,\n",
    "    separators=[\" \"]  # Hierarchy of separators\n",
    ")\n",
    "chunks=text_splitter.split_documents(documents)\n",
    "\n",
    "print(f\"Created {len(chunks)} chunks from {len(documents)} documents\")\n",
    "print(f\"\\nChunk example:\")\n",
    "print(f\"Content: {chunks[0].page_content[:150]}...\")\n",
    "print(f\"Metadata: {chunks[0].metadata}\")"
   ]
  },
  {
   "cell_type": "code",
   "execution_count": 11,
   "id": "5bccc475",
   "metadata": {},
   "outputs": [
    {
     "data": {
      "text/plain": [
       "[Document(metadata={'source': 'data\\\\doc_0.txt'}, page_content='Machine Learning Fundamentals\\n\\n    Machine learning is a subset of artificial intelligence that enables systems to learn \\n    and improve from experience without being explicitly programmed. There are three main \\n    types of machine learning: supervised learning, unsupervised learning, and reinforcement \\n    learning. Supervised learning uses labeled data to train models, while unsupervised \\n    learning finds patterns in unlabeled data. Reinforcement learning learns through'),\n",
       " Document(metadata={'source': 'data\\\\doc_0.txt'}, page_content='data. Reinforcement learning learns through \\n    interaction with an environment using rewards and penalties.'),\n",
       " Document(metadata={'source': 'data\\\\doc_1.txt'}, page_content='Deep Learning and Neural Networks\\n\\n    Deep learning is a subset of machine learning based on artificial neural networks. \\n    These networks are inspired by the human brain and consist of layers of interconnected \\n    nodes. Deep learning has revolutionized fields like computer vision, natural language \\n    processing, and speech recognition. Convolutional Neural Networks (CNNs) are particularly \\n    effective for image processing, while Recurrent Neural Networks (RNNs) and Transformers'),\n",
       " Document(metadata={'source': 'data\\\\doc_1.txt'}, page_content='Neural Networks (RNNs) and Transformers \\n    excel at sequential data processing.'),\n",
       " Document(metadata={'source': 'data\\\\doc_2.txt'}, page_content='Natural Language Processing (NLP)\\n\\n    NLP is a field of AI that focuses on the interaction between computers and human language. \\n    Key tasks in NLP include text classification, named entity recognition, sentiment analysis, \\n    machine translation, and question answering. Modern NLP heavily relies on transformer \\n    architectures like BERT, GPT, and T5. These models use attention mechanisms to understand \\n    context and relationships between words in text.')]"
      ]
     },
     "execution_count": 11,
     "metadata": {},
     "output_type": "execute_result"
    }
   ],
   "source": [
    "chunks"
   ]
  },
  {
   "cell_type": "markdown",
   "id": "f8485c41",
   "metadata": {},
   "source": [
    "### Embedding Models"
   ]
  },
  {
   "cell_type": "code",
   "execution_count": 12,
   "id": "8c6c93e3",
   "metadata": {},
   "outputs": [],
   "source": [
    "os.environ[\"OPENAI_API_KEY\"]=os.getenv(\"OPENAI_API_KEY\")"
   ]
  },
  {
   "cell_type": "code",
   "execution_count": 13,
   "id": "f1491c25",
   "metadata": {},
   "outputs": [
    {
     "data": {
      "text/plain": [
       "OpenAIEmbeddings(client=<openai.resources.embeddings.Embeddings object at 0x0000019022DABF80>, async_client=<openai.resources.embeddings.AsyncEmbeddings object at 0x0000019031221160>, model='text-embedding-ada-002', dimensions=None, deployment='text-embedding-ada-002', openai_api_version=None, openai_api_base=None, openai_api_type=None, openai_proxy=None, embedding_ctx_length=8191, openai_api_key=SecretStr('**********'), openai_organization=None, allowed_special=None, disallowed_special=None, chunk_size=1000, max_retries=2, request_timeout=None, headers=None, tiktoken_enabled=True, tiktoken_model_name=None, show_progress_bar=False, model_kwargs={}, skip_empty=False, default_headers=None, default_query=None, retry_min_seconds=4, retry_max_seconds=20, http_client=None, http_async_client=None, check_embedding_ctx_length=True)"
      ]
     },
     "execution_count": 13,
     "metadata": {},
     "output_type": "execute_result"
    }
   ],
   "source": [
    "sample_text=\"MAchine LEarning is fascinating\"\n",
    "embeddings=OpenAIEmbeddings()\n",
    "embeddings"
   ]
  },
  {
   "cell_type": "code",
   "execution_count": 14,
   "id": "3e814386",
   "metadata": {},
   "outputs": [
    {
     "data": {
      "text/plain": [
       "[-0.022837752476334572,\n",
       " 0.011149656027555466,\n",
       " 0.00850998517125845,\n",
       " -0.029968805611133575,\n",
       " -0.005709438119083643,\n",
       " 0.020487001165747643,\n",
       " -0.003222434548661113,\n",
       " 0.011412310414016247,\n",
       " -0.021445687860250473,\n",
       " -0.04412584751844406,\n",
       " 0.006356223486363888,\n",
       " 0.04383692890405655,\n",
       " -0.018267575651407242,\n",
       " 0.005177564453333616,\n",
       " -0.0012697672937065363,\n",
       " 0.003861011704429984,\n",
       " 0.03685033693909645,\n",
       " 0.009560600854456425,\n",
       " 0.004277974832803011,\n",
       " -0.007689191959798336,\n",
       " -0.02157701551914215,\n",
       " 0.020959777757525444,\n",
       " -0.005358138587325811,\n",
       " -0.040553756058216095,\n",
       " -0.007387139834463596,\n",
       " 0.012423527427017689,\n",
       " 0.01457728911191225,\n",
       " -0.036456357687711716,\n",
       " -0.013723663985729218,\n",
       " -0.0023523936979472637,\n",
       " 0.016809847205877304,\n",
       " -0.008890833705663681,\n",
       " -0.01929192617535591,\n",
       " -0.040790144354104996,\n",
       " -0.015115729533135891,\n",
       " -0.012134608812630177,\n",
       " 0.00017698356532491744,\n",
       " 0.0012303692055866122,\n",
       " -0.014853076077997684,\n",
       " -0.0009463747264817357,\n",
       " 0.017295757308602333,\n",
       " 0.012784676626324654,\n",
       " -0.010598083026707172,\n",
       " -0.025687547400593758,\n",
       " -0.02055266499519348,\n",
       " 0.009488371200859547,\n",
       " -0.0031863197218626738,\n",
       " -0.017111899331212044,\n",
       " -0.011517371982336044,\n",
       " 0.026068395003676414,\n",
       " 0.016126947477459908,\n",
       " 0.017361421138048172,\n",
       " 0.003591791493818164,\n",
       " -0.005351572297513485,\n",
       " 0.005755402613431215,\n",
       " 0.008523117750883102,\n",
       " 0.0020667575299739838,\n",
       " 0.008963063359260559,\n",
       " 0.007610395550727844,\n",
       " 0.005111900623887777,\n",
       " 0.02159014716744423,\n",
       " -0.018858548253774643,\n",
       " -0.011530504561960697,\n",
       " 0.02194472961127758,\n",
       " -0.013960053212940693,\n",
       " 0.00556169543415308,\n",
       " -0.008424622938036919,\n",
       " 0.03811107575893402,\n",
       " 0.03143966570496559,\n",
       " 0.008601914159953594,\n",
       " 0.01464295294135809,\n",
       " -0.010670313611626625,\n",
       " -0.020513266324996948,\n",
       " -0.0020240764133632183,\n",
       " 0.02784130908548832,\n",
       " -0.003110806690528989,\n",
       " -0.01905553787946701,\n",
       " 0.003578658914193511,\n",
       " 0.013001366518437862,\n",
       " 0.01623200811445713,\n",
       " -0.008076606318354607,\n",
       " -0.004967441316694021,\n",
       " 0.005302324891090393,\n",
       " 0.00808317307382822,\n",
       " 0.01361860241740942,\n",
       " 0.004648973233997822,\n",
       " -0.012003281153738499,\n",
       " -0.004087550565600395,\n",
       " 0.010000545531511307,\n",
       " -0.00374938384629786,\n",
       " 0.017807932570576668,\n",
       " 0.003288098145276308,\n",
       " 0.011064293794333935,\n",
       " 0.027447327971458435,\n",
       " -0.026225987821817398,\n",
       " 0.0030057451222091913,\n",
       " -0.006261011585593224,\n",
       " 0.018385769799351692,\n",
       " 0.021012309938669205,\n",
       " -0.024032829329371452,\n",
       " -0.026475509628653526,\n",
       " 0.02303474396467209,\n",
       " -0.0011827631387859583,\n",
       " -0.010801640339195728,\n",
       " -0.015325852669775486,\n",
       " -0.0016588233411312103,\n",
       " 0.004754034802317619,\n",
       " 0.010611215606331825,\n",
       " 0.028603006154298782,\n",
       " 0.007859916426241398,\n",
       " 6.089260568842292e-05,\n",
       " 0.03734938055276871,\n",
       " -0.014958137646317482,\n",
       " -0.028209025040268898,\n",
       " -0.00904842559248209,\n",
       " -0.017505880445241928,\n",
       " -0.0017844046233221889,\n",
       " -0.019252527505159378,\n",
       " -0.02201039344072342,\n",
       " -0.00793214701116085,\n",
       " 0.022404374554753304,\n",
       " 0.025516822934150696,\n",
       " 0.013264019973576069,\n",
       " -0.013474143110215664,\n",
       " 0.012095210142433643,\n",
       " 0.02093351259827614,\n",
       " -0.010959232226014137,\n",
       " -0.016520928591489792,\n",
       " -0.007827085442841053,\n",
       " -0.008437755517661572,\n",
       " 0.0235600508749485,\n",
       " 0.00033098491257987916,\n",
       " -0.002383583690971136,\n",
       " 0.009567166678607464,\n",
       " -0.024085359647870064,\n",
       " 0.020158683881163597,\n",
       " 0.000695211929269135,\n",
       " 0.005844048224389553,\n",
       " -0.016612857580184937,\n",
       " -0.006723938975483179,\n",
       " 0.014248971827328205,\n",
       " 0.013907521963119507,\n",
       " 0.009343910962343216,\n",
       " -0.02500464767217636,\n",
       " -0.02723720483481884,\n",
       " 0.00985608622431755,\n",
       " 0.003936524968594313,\n",
       " 0.020171817392110825,\n",
       " 0.007518467027693987,\n",
       " 0.0007042406941764057,\n",
       " -0.004796716384589672,\n",
       " -0.027079613879323006,\n",
       " 0.0002735293819569051,\n",
       " 0.020526399835944176,\n",
       " 0.004754034802317619,\n",
       " -0.003555676667019725,\n",
       " 0.024571269750595093,\n",
       " 0.004202461801469326,\n",
       " -0.0170199703425169,\n",
       " -0.013999450951814651,\n",
       " -0.001004651072435081,\n",
       " -0.02350752055644989,\n",
       " -0.014590421691536903,\n",
       " -0.01587742567062378,\n",
       " 0.022693293169140816,\n",
       " 0.026107793673872948,\n",
       " 0.024098491296172142,\n",
       " 0.008076606318354607,\n",
       " 0.0036311896983534098,\n",
       " 0.00780081981793046,\n",
       " -0.0005413132021203637,\n",
       " 0.035983577370643616,\n",
       " -0.023770174011588097,\n",
       " 0.01085417065769434,\n",
       " -0.008772638626396656,\n",
       " -0.012522023171186447,\n",
       " 0.021957863122224808,\n",
       " -0.006221613381057978,\n",
       " -0.037191785871982574,\n",
       " -0.017085634171962738,\n",
       " 0.008096305653452873,\n",
       " 0.01895047537982464,\n",
       " 0.01979096792638302,\n",
       " 0.01856962777674198,\n",
       " -0.005732420366257429,\n",
       " -0.008890833705663681,\n",
       " 0.009271681308746338,\n",
       " -0.027027081698179245,\n",
       " 0.015050066635012627,\n",
       " -0.0017548560863360763,\n",
       " 0.009796989150345325,\n",
       " 0.005476333200931549,\n",
       " -0.021301228553056717,\n",
       " -0.010670313611626625,\n",
       " -0.6665104627609253,\n",
       " -0.02952229417860508,\n",
       " 0.016192611306905746,\n",
       " 0.012141174636781216,\n",
       " -0.007426538038998842,\n",
       " 0.0022194250486791134,\n",
       " 0.002009302144870162,\n",
       " -0.010151571594178677,\n",
       " 0.031045686453580856,\n",
       " 0.021366892382502556,\n",
       " 0.004412584938108921,\n",
       " 0.008903966285288334,\n",
       " -0.011333514004945755,\n",
       " -0.00012742816761601716,\n",
       " 0.00780081981793046,\n",
       " -0.028051432222127914,\n",
       " 0.01965964213013649,\n",
       " -0.05815156549215317,\n",
       " -0.013428178615868092,\n",
       " 0.019738437607884407,\n",
       " -0.01979096792638302,\n",
       " 0.03414500132203102,\n",
       " -0.006333241239190102,\n",
       " -0.0024393978528678417,\n",
       " -0.01373679656535387,\n",
       " 0.007866483181715012,\n",
       " 0.01211490947753191,\n",
       " 0.017886728048324585,\n",
       " 0.0007173733902163804,\n",
       " -0.007393706124275923,\n",
       " -0.0007091654115356505,\n",
       " 0.024321747943758965,\n",
       " 0.00020971269987057894,\n",
       " -0.00404158653691411,\n",
       " 0.052872221916913986,\n",
       " -0.01700683683156967,\n",
       " -0.0018878246191889048,\n",
       " 0.030651705339550972,\n",
       " 0.013428178615868092,\n",
       " 0.019436385482549667,\n",
       " -0.020697124302387238,\n",
       " -0.013605469837784767,\n",
       " -0.0034506150986999273,\n",
       " 0.013218055479228497,\n",
       " -0.0029335152357816696,\n",
       " 0.0064087542705237865,\n",
       " 0.002145553706213832,\n",
       " 0.01115622278302908,\n",
       " -0.02380957268178463,\n",
       " -0.026501774787902832,\n",
       " 0.006500683259218931,\n",
       " 0.008569082245230675,\n",
       " -0.010781941004097462,\n",
       " 0.0032634742092341185,\n",
       " 0.003301230724900961,\n",
       " 0.015470312908291817,\n",
       " 0.012325032614171505,\n",
       " -0.004685088060796261,\n",
       " 0.01762407459318638,\n",
       " -0.025096576660871506,\n",
       " -0.016008753329515457,\n",
       " 0.005193979945033789,\n",
       " -0.031649790704250336,\n",
       " -0.011858821846544743,\n",
       " -0.01598248817026615,\n",
       " 0.02621285617351532,\n",
       " 0.006129684392362833,\n",
       " -0.019882896915078163,\n",
       " -0.007708890829235315,\n",
       " -0.015798630192875862,\n",
       " 0.037375643849372864,\n",
       " -0.0015619696350768209,\n",
       " 0.011799724772572517,\n",
       " -0.0061493837274611,\n",
       " 0.009626263752579689,\n",
       " 0.02886565960943699,\n",
       " 0.012699314393103123,\n",
       " -0.007157317828387022,\n",
       " 0.009416140615940094,\n",
       " 0.016310805454850197,\n",
       " 0.008884266950190067,\n",
       " -0.001795895746909082,\n",
       " -0.005949109792709351,\n",
       " -0.020250612869858742,\n",
       " 0.02380957268178463,\n",
       " -0.008122570812702179,\n",
       " -0.002002735622227192,\n",
       " -0.0025526671670377254,\n",
       " 0.0025920653715729713,\n",
       " 0.002835020190104842,\n",
       " 0.018963608890771866,\n",
       " 0.020158683881163597,\n",
       " -0.01518139336258173,\n",
       " -0.05841422080993652,\n",
       " 0.01109055895358324,\n",
       " -0.00012086181959602982,\n",
       " 0.0024049244821071625,\n",
       " 0.016153212636709213,\n",
       " 0.009790422394871712,\n",
       " -0.026974551379680634,\n",
       " -0.0058407653123140335,\n",
       " 0.004580026958137751,\n",
       " 0.020290011540055275,\n",
       " 0.0208678487688303,\n",
       " 0.01653406023979187,\n",
       " -0.004980573896318674,\n",
       " 0.017400817945599556,\n",
       " 0.0069143627770245075,\n",
       " 0.017216959968209267,\n",
       " -0.027683716267347336,\n",
       " -0.023717643693089485,\n",
       " -0.0009389875340275466,\n",
       " -0.023533785715699196,\n",
       " 0.021235564723610878,\n",
       " -0.00958686601370573,\n",
       " -0.0266987644135952,\n",
       " 0.007144185248762369,\n",
       " -0.0004538987122941762,\n",
       " 0.016126947477459908,\n",
       " -0.02928590588271618,\n",
       " 0.03325197845697403,\n",
       " -0.00040424070903100073,\n",
       " 0.012246236205101013,\n",
       " -0.01870095543563366,\n",
       " -0.015824895352125168,\n",
       " -0.020526399835944176,\n",
       " -0.004497947171330452,\n",
       " -0.018648425117135048,\n",
       " -0.01460355520248413,\n",
       " 0.006802734918892384,\n",
       " -0.010788507759571075,\n",
       " -0.0077942535281181335,\n",
       " 0.0006160053890198469,\n",
       " -0.022207384929060936,\n",
       " 0.0038281800225377083,\n",
       " -0.010611215606331825,\n",
       " 0.015352117829024792,\n",
       " -0.006848699413239956,\n",
       " 0.0026757861487567425,\n",
       " -0.01690177619457245,\n",
       " -0.024242952466011047,\n",
       " 0.005732420366257429,\n",
       " 0.022036658599972725,\n",
       " 0.022509435191750526,\n",
       " -0.006247878540307283,\n",
       " -0.010893569327890873,\n",
       " -0.0027398080565035343,\n",
       " 0.01151080522686243,\n",
       " 0.004606292117387056,\n",
       " -0.01506319921463728,\n",
       " 0.0015036934055387974,\n",
       " -0.009009027853608131,\n",
       " -0.007945279590785503,\n",
       " 0.02585827186703682,\n",
       " -0.010263199917972088,\n",
       " 0.009974280372262001,\n",
       " -0.012548288330435753,\n",
       " -0.0014306427910923958,\n",
       " -0.01658659055829048,\n",
       " -0.027447327971458435,\n",
       " -0.01791299320757389,\n",
       " -0.00473433593288064,\n",
       " -0.018648425117135048,\n",
       " 0.007150751538574696,\n",
       " 0.00011737344175344333,\n",
       " -0.019462650641798973,\n",
       " -0.006389055401086807,\n",
       " 0.03782215714454651,\n",
       " -0.0417356975376606,\n",
       " -0.02243063971400261,\n",
       " 0.01338221412152052,\n",
       " -0.026291651651263237,\n",
       " 0.00667140819132328,\n",
       " 0.021957863122224808,\n",
       " -0.02044760249555111,\n",
       " 0.02080218680202961,\n",
       " -0.015391516499221325,\n",
       " -0.011563336476683617,\n",
       " -0.016008753329515457,\n",
       " -0.02495211735367775,\n",
       " 0.0015020518330857158,\n",
       " 0.015549108386039734,\n",
       " 0.001322298077866435,\n",
       " -0.0078139528632164,\n",
       " 0.020276878029108047,\n",
       " 0.0174927469342947,\n",
       " 0.03834746405482292,\n",
       " 0.016376467421650887,\n",
       " -0.018241310492157936,\n",
       " 0.0103157302364707,\n",
       " 0.009494937025010586,\n",
       " 0.01641586609184742,\n",
       " 0.004356770776212215,\n",
       " -0.0018894661916419864,\n",
       " 0.010066209360957146,\n",
       " 0.014288370497524738,\n",
       " -0.024492472410202026,\n",
       " -0.01226593554019928,\n",
       " 0.009626263752579689,\n",
       " 0.03530067950487137,\n",
       " 0.0007017782772891223,\n",
       " 0.013828725554049015,\n",
       " 0.021077971905469894,\n",
       " 0.010519287548959255,\n",
       " 0.0001241449936060235,\n",
       " -0.019554579630494118,\n",
       " 0.001092475955374539,\n",
       " -0.020710257813334465,\n",
       " 0.013960053212940693,\n",
       " 0.016731051728129387,\n",
       " 0.011287549510598183,\n",
       " -0.004859096370637417,\n",
       " -0.001488919137045741,\n",
       " -0.02614719234406948,\n",
       " 0.02327113226056099,\n",
       " 0.03945061191916466,\n",
       " -0.009409574791789055,\n",
       " 0.0012804375728592277,\n",
       " -0.02700081653892994,\n",
       " 0.007275511976331472,\n",
       " 0.0012459643185138702,\n",
       " 0.00014086865121498704,\n",
       " 0.012620517984032631,\n",
       " -0.008227632381021976,\n",
       " 0.02260136418044567,\n",
       " 0.0075578647665679455,\n",
       " 0.01499753538519144,\n",
       " 0.02068399079144001,\n",
       " 0.0024328313302248716,\n",
       " -0.03903036564588547,\n",
       " -0.017873594537377357,\n",
       " 0.01434090081602335,\n",
       " 0.02097291126847267,\n",
       " 0.005397536791861057,\n",
       " 0.015102596953511238,\n",
       " 0.00097756483592093,\n",
       " 0.012062378227710724,\n",
       " -0.010355128906667233,\n",
       " 0.03992338851094246,\n",
       " -0.006257728207856417,\n",
       " -0.0031715454533696175,\n",
       " -0.0003582762728910893,\n",
       " 0.018911078572273254,\n",
       " -0.02303474396467209,\n",
       " 0.009751024655997753,\n",
       " 0.004905060864984989,\n",
       " 0.0291545782238245,\n",
       " -0.01804432086646557,\n",
       " -0.025109710171818733,\n",
       " 0.013040764257311821,\n",
       " -0.033514633774757385,\n",
       " 0.004192612133920193,\n",
       " -0.012679615058004856,\n",
       " 0.005752119701355696,\n",
       " -0.00041963058174587786,\n",
       " -0.032674141228199005,\n",
       " 0.01376306265592575,\n",
       " 0.00025218873634003103,\n",
       " 0.029049517586827278,\n",
       " 0.01000711228698492,\n",
       " -0.008542817085981369,\n",
       " 0.028655536472797394,\n",
       " 0.003729684744030237,\n",
       " -0.0043075233697891235,\n",
       " 0.0071244859136641026,\n",
       " -0.012272501364350319,\n",
       " -0.0009209301206283271,\n",
       " -0.01000711228698492,\n",
       " -0.005821066442877054,\n",
       " 0.007978111505508423,\n",
       " -0.017834197729825974,\n",
       " -0.02127496339380741,\n",
       " -0.006428453139960766,\n",
       " -0.02680382691323757,\n",
       " 0.025687547400593758,\n",
       " -0.025030912831425667,\n",
       " 0.04044869542121887,\n",
       " 0.0017663472099229693,\n",
       " -0.011865388602018356,\n",
       " 0.03398741036653519,\n",
       " -0.0064481524750590324,\n",
       " -0.03354089707136154,\n",
       " 0.01628454029560089,\n",
       " 0.011681530624628067,\n",
       " -0.007879615761339664,\n",
       " -0.02681695856153965,\n",
       " -0.020644593983888626,\n",
       " -0.010893569327890873,\n",
       " -0.006677974481135607,\n",
       " -0.0022703143768012524,\n",
       " 0.009009027853608131,\n",
       " -0.0008413131581619382,\n",
       " -0.012279068119823933,\n",
       " -0.013053896836936474,\n",
       " -0.01846456713974476,\n",
       " 0.01172749511897564,\n",
       " 0.02260136418044567,\n",
       " -0.004386319313198328,\n",
       " -0.0017663472099229693,\n",
       " -0.020106153562664986,\n",
       " -0.0007239397382363677,\n",
       " 0.011149656027555466,\n",
       " -0.0312558114528656,\n",
       " -0.017781667411327362,\n",
       " 0.027920106425881386,\n",
       " 0.0007346100173890591,\n",
       " 0.004117099102586508,\n",
       " -0.017755400389432907,\n",
       " -0.0017138164257630706,\n",
       " -0.02567441575229168,\n",
       " 0.010598083026707172,\n",
       " -0.011550203897058964,\n",
       " 0.016928041353821754,\n",
       " -0.00390040990896523,\n",
       " -0.001601367723196745,\n",
       " 0.034118738025426865,\n",
       " 0.015102596953511238,\n",
       " 0.008680710569024086,\n",
       " 0.017033103853464127,\n",
       " 0.02411162480711937,\n",
       " -0.011182487942278385,\n",
       " -0.009678795002400875,\n",
       " 0.002621613908559084,\n",
       " 0.01906866952776909,\n",
       " 0.09854772686958313,\n",
       " 0.011885087005794048,\n",
       " -0.012325032614171505,\n",
       " 0.005046237260103226,\n",
       " -0.03317318111658096,\n",
       " -0.028340352699160576,\n",
       " -0.01755841076374054,\n",
       " -0.017111899331212044,\n",
       " 0.006077153608202934,\n",
       " -0.0011606017360463738,\n",
       " -0.018228178843855858,\n",
       " 0.0003800273116212338,\n",
       " 0.014485360123217106,\n",
       " 0.0055551291443407536,\n",
       " 0.01575923152267933,\n",
       " 0.006083719898015261,\n",
       " 0.002009302144870162,\n",
       " -0.00029774277936667204,\n",
       " 0.007892748340964317,\n",
       " -0.016008753329515457,\n",
       " 0.016021884977817535,\n",
       " 0.005049520637840033,\n",
       " 0.013487275689840317,\n",
       " -0.004580026958137751,\n",
       " 0.02616032399237156,\n",
       " -0.00610013585537672,\n",
       " 0.009041858837008476,\n",
       " 0.03091435879468918,\n",
       " -0.022509435191750526,\n",
       " -0.031098216772079468,\n",
       " 0.015325852669775486,\n",
       " 0.028576740995049477,\n",
       " -0.01015813834965229,\n",
       " 0.00802407506853342,\n",
       " -0.012712446972727776,\n",
       " 0.02495211735367775,\n",
       " 0.0025838573928922415,\n",
       " 0.00835895910859108,\n",
       " 0.024912718683481216,\n",
       " -0.023047875612974167,\n",
       " 0.03059917502105236,\n",
       " 0.04226100817322731,\n",
       " -0.0028383033350110054,\n",
       " -0.0009127222001552582,\n",
       " -0.002137345727533102,\n",
       " -0.01918686553835869,\n",
       " -0.0005876880022697151,\n",
       " 0.03314691781997681,\n",
       " -0.008372091688215733,\n",
       " -0.029128313064575195,\n",
       " 0.011412310414016247,\n",
       " 4.083446765434928e-05,\n",
       " -0.02681695856153965,\n",
       " 0.002977838274091482,\n",
       " 0.003811764298006892,\n",
       " 0.02404596097767353,\n",
       " -0.018976742401719093,\n",
       " 0.009192884899675846,\n",
       " -0.008923664689064026,\n",
       " -0.01541778165847063,\n",
       " -0.030677970498800278,\n",
       " -0.0216952096670866,\n",
       " 0.004425717517733574,\n",
       " -0.004100683610886335,\n",
       " 0.01380246039479971,\n",
       " -0.01604815013706684,\n",
       " -0.010519287548959255,\n",
       " -0.011720928363502026,\n",
       " -0.030073868110775948,\n",
       " 0.021143635734915733,\n",
       " 0.007275511976331472,\n",
       " -0.04654226452112198,\n",
       " -0.0391879566013813,\n",
       " -0.019252527505159378,\n",
       " 0.01380246039479971,\n",
       " 0.012042679823935032,\n",
       " 0.013362515717744827,\n",
       " -0.00011768124386435375,\n",
       " -0.020355673506855965,\n",
       " 0.017873594537377357,\n",
       " -0.0053712716326117516,\n",
       " -0.01178002543747425,\n",
       " -0.010788507759571075,\n",
       " -0.022220516577363014,\n",
       " 0.014537891373038292,\n",
       " -0.01126785110682249,\n",
       " -0.011832556687295437,\n",
       " -0.005177564453333616,\n",
       " 0.016757316887378693,\n",
       " -0.006720655597746372,\n",
       " 0.01863529160618782,\n",
       " -0.007150751538574696,\n",
       " 0.025648150593042374,\n",
       " 0.02055266499519348,\n",
       " 0.0014273595297709107,\n",
       " 0.006109985522925854,\n",
       " 0.00974445790052414,\n",
       " 0.012640217319130898,\n",
       " 0.011340080760419369,\n",
       " -0.023494388908147812,\n",
       " 0.02794637158513069,\n",
       " -0.020040489733219147,\n",
       " -0.029233375564217567,\n",
       " -0.013631735928356647,\n",
       " 0.014708616770803928,\n",
       " 0.024032829329371452,\n",
       " 0.010624349117279053,\n",
       " 0.013671133667230606,\n",
       " 0.012213404290378094,\n",
       " -0.010486455634236336,\n",
       " 0.01677044853568077,\n",
       " 0.004754034802317619,\n",
       " 0.02369137853384018,\n",
       " -0.005384404212236404,\n",
       " 0.023257998749613762,\n",
       " 0.01427523698657751,\n",
       " 0.011701229959726334,\n",
       " 0.010236934758722782,\n",
       " -0.007209848612546921,\n",
       " -0.028471678495407104,\n",
       " 0.002470587845891714,\n",
       " -0.0034900133032351732,\n",
       " 0.029601089656352997,\n",
       " -0.0004036251048091799,\n",
       " -0.0015980845782905817,\n",
       " 0.0047409022226929665,\n",
       " 0.010946099646389484,\n",
       " -0.013658001087605953,\n",
       " -0.02223365008831024,\n",
       " -0.006454718764871359,\n",
       " -0.0108476048335433,\n",
       " 0.03214883431792259,\n",
       " -0.02068399079144001,\n",
       " -0.033751022070646286,\n",
       " -0.036824069917201996,\n",
       " -0.017085634171962738,\n",
       " -0.0057291374541819096,\n",
       " -0.006441586185246706,\n",
       " -0.014774279668927193,\n",
       " -0.003713269019499421,\n",
       " -0.012659916654229164,\n",
       " -0.0073740072548389435,\n",
       " 0.012646783143281937,\n",
       " -0.003578658914193511,\n",
       " -0.013854991644620895,\n",
       " -0.03091435879468918,\n",
       " -0.0022703143768012524,\n",
       " 0.01208207756280899,\n",
       " 0.0010941175278276205,\n",
       " 0.028760597109794617,\n",
       " -0.018674690276384354,\n",
       " 0.039293017238378525,\n",
       " -0.01238412968814373,\n",
       " -0.013960053212940693,\n",
       " -0.01460355520248413,\n",
       " -0.002001094166189432,\n",
       " 0.0023934333585202694,\n",
       " 0.00488536199554801,\n",
       " 0.05563008785247803,\n",
       " 0.03078303299844265,\n",
       " 0.051191236823797226,\n",
       " -0.010256633162498474,\n",
       " 0.025753211230039597,\n",
       " 0.012252802960574627,\n",
       " -0.004501230549067259,\n",
       " -0.023914633318781853,\n",
       " 0.007341175340116024,\n",
       " -0.005325307138264179,\n",
       " -0.004747468512505293,\n",
       " 0.011484540067613125,\n",
       " 0.014419697225093842,\n",
       " -0.006566346623003483,\n",
       " 0.010657180100679398,\n",
       " -0.011300682090222836,\n",
       " 0.005955676548182964,\n",
       " 0.003388234879821539,\n",
       " 0.00139042385853827,\n",
       " -0.015654170885682106,\n",
       " -0.034171268343925476,\n",
       " -0.013854991644620895,\n",
       " -0.013592337258160114,\n",
       " 0.021077971905469894,\n",
       " 0.015470312908291817,\n",
       " 0.021668944507837296,\n",
       " -0.021682076156139374,\n",
       " 0.009370176121592522,\n",
       " 0.036771539598703384,\n",
       " 0.006352940108627081,\n",
       " 0.003091107588261366,\n",
       " 0.020487001165747643,\n",
       " 0.021209299564361572,\n",
       " -0.01238412968814373,\n",
       " -0.01097236480563879,\n",
       " 0.023599449545145035,\n",
       " 0.0035491103772073984,\n",
       " -0.03698166459798813,\n",
       " -0.005670040380209684,\n",
       " -0.026239121332764626,\n",
       " -0.012850340455770493,\n",
       " 0.03288426250219345,\n",
       " 0.016126947477459908,\n",
       " 0.022706426680088043,\n",
       " 0.030993156135082245,\n",
       " 1.7826605471782386e-05,\n",
       " -0.021957863122224808,\n",
       " -0.001759780920110643,\n",
       " -0.016967440024018288,\n",
       " -0.009488371200859547,\n",
       " -0.004990423563867807,\n",
       " -0.036587681621313095,\n",
       " -0.005354855675250292,\n",
       " -0.01762407459318638,\n",
       " 0.0016432282282039523,\n",
       " -0.013552939519286156,\n",
       " 0.0006697673234157264,\n",
       " 0.0011253076372668147,\n",
       " -0.02718467451632023,\n",
       " 0.01250232383608818,\n",
       " -0.038636382669210434,\n",
       " -0.010499588213860989,\n",
       " 0.02097291126847267,\n",
       " 0.029627354815602303,\n",
       " 0.04394198954105377,\n",
       " -0.002831737045198679,\n",
       " 0.022824620828032494,\n",
       " 0.01015813834965229,\n",
       " 0.013309984467923641,\n",
       " 0.016192611306905746,\n",
       " 0.014354033395648003,\n",
       " -0.006182215176522732,\n",
       " 9.475032857153565e-05,\n",
       " 0.023297397419810295,\n",
       " 0.007479068823158741,\n",
       " -0.024794524535536766,\n",
       " -0.029364701360464096,\n",
       " 0.008647878654301167,\n",
       " -0.010289465077221394,\n",
       " -0.014367165975272655,\n",
       " -0.019554579630494118,\n",
       " 0.0048131318762898445,\n",
       " 0.0029400817584246397,\n",
       " 0.010020244866609573,\n",
       " -0.023297397419810295,\n",
       " -0.007117919623851776,\n",
       " -0.02224678173661232,\n",
       " 0.019751571118831635,\n",
       " -0.02231244556605816,\n",
       " 0.012305333279073238,\n",
       " -0.015312720090150833,\n",
       " -0.004038303159177303,\n",
       " -0.0006168261752463877,\n",
       " 0.00802407506853342,\n",
       " -0.020290011540055275,\n",
       " 0.0006229821592569351,\n",
       " -0.015654170885682106,\n",
       " 0.012482624500989914,\n",
       " 0.027316002175211906,\n",
       " -0.0040251705795526505,\n",
       " -0.0013395346468314528,\n",
       " 0.005082352086901665,\n",
       " -0.010328862816095352,\n",
       " 0.0272897370159626,\n",
       " -0.0019140900112688541,\n",
       " 0.0013641584664583206,\n",
       " 0.0004436387971509248,\n",
       " 0.01779479905962944,\n",
       " -0.016625989228487015,\n",
       " -0.01548344548791647,\n",
       " -0.0012558137532323599,\n",
       " 0.024334879592061043,\n",
       " -0.004648973233997822,\n",
       " -0.017059369012713432,\n",
       " -0.005046237260103226,\n",
       " 0.01761094108223915,\n",
       " 0.019856631755828857,\n",
       " -0.016993705183267593,\n",
       " -0.011898219585418701,\n",
       " 0.0014971269993111491,\n",
       " 0.004622708074748516,\n",
       " -0.004770450759679079,\n",
       " 0.015391516499221325,\n",
       " 0.019882896915078163,\n",
       " -0.012627084739506245,\n",
       " 0.011458274908363819,\n",
       " -0.013566072098910809,\n",
       " -0.015890559181571007,\n",
       " -0.0011474690400063992,\n",
       " 0.00782051868736744,\n",
       " 0.01875348575413227,\n",
       " -0.024807658046483994,\n",
       " -0.012587686069309711,\n",
       " 0.008306428790092468,\n",
       " 0.004773734137415886,\n",
       " 0.008116004057228565,\n",
       " 0.014748014509677887,\n",
       " -0.024860188364982605,\n",
       " -0.014971270225942135,\n",
       " 0.03674527630209923,\n",
       " -0.010630914941430092,\n",
       " 0.006714089307934046,\n",
       " 0.017532145604491234,\n",
       " 0.011011763475835323,\n",
       " -0.019396988674998283,\n",
       " 0.012712446972727776,\n",
       " 0.0010990422451868653,\n",
       " -0.015522843226790428,\n",
       " 0.002134062582626939,\n",
       " -0.013605469837784767,\n",
       " 0.007754855323582888,\n",
       " -0.0048131318762898445,\n",
       " 0.005049520637840033,\n",
       " 0.006398904602974653,\n",
       " -0.0004130642337258905,\n",
       " -0.01912120170891285,\n",
       " 0.01280437596142292,\n",
       " 0.014866208657622337,\n",
       " 0.0040251705795526505,\n",
       " -0.004474965389817953,\n",
       " 0.0010153213515877724,\n",
       " 0.012522023171186447,\n",
       " 0.005079069174826145,\n",
       " -0.0071638841181993484,\n",
       " 0.0036508888006210327,\n",
       " -0.0208678487688303,\n",
       " 0.0047015040181577206,\n",
       " -0.0037789323832839727,\n",
       " -0.0057291374541819096,\n",
       " -0.0023720928002148867,\n",
       " -0.04557044431567192,\n",
       " 0.002554308855906129,\n",
       " -0.009028726257383823,\n",
       " 0.016205742955207825,\n",
       " -0.005239944439381361,\n",
       " -0.0004711353685706854,\n",
       " 0.0023294114507734776,\n",
       " 0.0029499311931431293,\n",
       " -0.022036658599972725,\n",
       " -0.0072361137717962265,\n",
       " -0.02897072024643421,\n",
       " -0.007538165897130966,\n",
       " 0.01361860241740942,\n",
       " 0.005844048224389553,\n",
       " 0.020171817392110825,\n",
       " -0.01268618181347847,\n",
       " -0.00988891813904047,\n",
       " -0.01072941068559885,\n",
       " -0.005210395902395248,\n",
       " -0.009934882633388042,\n",
       " -0.03614117205142975,\n",
       " -0.007255813106894493,\n",
       " -0.02873433195054531,\n",
       " 0.03157099336385727,\n",
       " 0.006221613381057978,\n",
       " -0.011674963869154453,\n",
       " -0.018845414742827415,\n",
       " -4.3655945773934945e-05,\n",
       " -0.025214770808815956,\n",
       " 0.013815592974424362,\n",
       " -0.0061264014802873135,\n",
       " 0.015168260782957077,\n",
       " 0.019029272720217705,\n",
       " 0.01126785110682249,\n",
       " -0.014748014509677887,\n",
       " 0.020066754892468452,\n",
       " -0.021905332803726196,\n",
       " 0.012160873971879482,\n",
       " -0.011596168391406536,\n",
       " 0.0036870036274194717,\n",
       " 0.0028465113136917353,\n",
       " 0.0054467846639454365,\n",
       " -0.00916661974042654,\n",
       " -0.013841858133673668,\n",
       " -0.040737614035606384,\n",
       " 0.002056908095255494,\n",
       " 0.01629767194390297,\n",
       " -0.011333514004945755,\n",
       " 0.0037559501361101866,\n",
       " 0.0015841311542317271,\n",
       " -0.012666482478380203,\n",
       " -0.00021627903333865106,\n",
       " 0.017663471400737762,\n",
       " -0.01184568926692009,\n",
       " 0.0058144996874034405,\n",
       " -0.004773734137415886,\n",
       " 0.006441586185246706,\n",
       " -0.01581176184117794,\n",
       " -0.012968534603714943,\n",
       " 0.005522297695279121,\n",
       " -0.010420791804790497,\n",
       " -0.004524212796241045,\n",
       " -0.013428178615868092,\n",
       " 0.0021537616848945618,\n",
       " 0.0025411760434508324,\n",
       " -0.0026905604172497988,\n",
       " -0.012226536870002747,\n",
       " 0.0014831735752522945,\n",
       " 0.0018205195665359497,\n",
       " -0.004100683610886335,\n",
       " 0.02831408567726612,\n",
       " -0.002303146058693528,\n",
       " -0.011950750835239887,\n",
       " 0.030861828476190567,\n",
       " 0.0008437755168415606,\n",
       " 0.008404923602938652,\n",
       " -0.009514636360108852,\n",
       " 0.002201367635279894,\n",
       " -0.00041573180351406336,\n",
       " -0.01196388341486454,\n",
       " 0.012141174636781216,\n",
       " -0.017939258366823196,\n",
       " 0.0010834471322596073,\n",
       " -0.024439942091703415,\n",
       " 0.006244595628231764,\n",
       " -0.00904842559248209,\n",
       " 0.005367988254874945,\n",
       " -0.008917098864912987,\n",
       " 0.0017499313689768314,\n",
       " -0.01598248817026615,\n",
       " 0.002193159656599164,\n",
       " -0.008260464295744896,\n",
       " -0.008687276393175125,\n",
       " 0.006563063245266676,\n",
       " 0.0018336522625759244,\n",
       " -0.0041335150599479675,\n",
       " -0.016205742955207825,\n",
       " -0.010906701907515526,\n",
       " 0.0172563586384058,\n",
       " -0.00808973889797926,\n",
       " -0.006221613381057978,\n",
       " 0.012817508541047573,\n",
       " -0.00958686601370573,\n",
       " -0.009481804445385933,\n",
       " 0.010814772918820381,\n",
       " 0.01814938150346279,\n",
       " -0.002155403373762965,\n",
       " 0.0033849517349153757,\n",
       " 0.22357097268104553,\n",
       " -0.03614117205142975,\n",
       " -0.0016891926061362028,\n",
       " 0.0021980844903737307,\n",
       " -0.0012894662795588374,\n",
       " 0.012896304950118065,\n",
       " 0.007590696681290865,\n",
       " 0.006165799219161272,\n",
       " 0.0013658000389114022,\n",
       " 0.002445964142680168,\n",
       " 0.02206292375922203,\n",
       " -0.005637208465486765,\n",
       " -0.046200815588235855,\n",
       " -0.004425717517733574,\n",
       " 0.013329683803021908,\n",
       " 1.2093876648577861e-05,\n",
       " -0.0275261253118515,\n",
       " -0.00919945165514946,\n",
       " 0.006986592896282673,\n",
       " -0.019383855164051056,\n",
       " 0.01617947779595852,\n",
       " 0.006428453139960766,\n",
       " -0.027998901903629303,\n",
       " -0.0349854938685894,\n",
       " -0.0039496575482189655,\n",
       " 0.0021915182005614042,\n",
       " -0.01100519672036171,\n",
       " 0.012174006551504135,\n",
       " -0.005597810260951519,\n",
       " 0.001429821946658194,\n",
       " -0.00881203729659319,\n",
       " -0.007538165897130966,\n",
       " 0.0020175098907202482,\n",
       " -0.008437755517661572,\n",
       " -0.004681805148720741,\n",
       " -0.012101776897907257,\n",
       " 0.016271406784653664,\n",
       " -0.003368535777553916,\n",
       " 0.027263471856713295,\n",
       " 0.014551023952662945,\n",
       " 0.018267575651407242,\n",
       " -0.018018055707216263,\n",
       " 0.013868124224245548,\n",
       " -0.024847054854035378,\n",
       " 0.002700410084798932,\n",
       " 0.012095210142433643,\n",
       " ...]"
      ]
     },
     "execution_count": 14,
     "metadata": {},
     "output_type": "execute_result"
    }
   ],
   "source": [
    "vector=embeddings.embed_query(sample_text)\n",
    "vector"
   ]
  },
  {
   "cell_type": "markdown",
   "id": "c424dc3d",
   "metadata": {},
   "source": [
    "### Intilialize the ChromaDB Vector Store And Stores the chunks in Vector Representation"
   ]
  },
  {
   "cell_type": "code",
   "execution_count": 15,
   "id": "7fe48585",
   "metadata": {},
   "outputs": [
    {
     "data": {
      "text/plain": [
       "[Document(metadata={'source': 'data\\\\doc_0.txt'}, page_content='Machine Learning Fundamentals\\n\\n    Machine learning is a subset of artificial intelligence that enables systems to learn \\n    and improve from experience without being explicitly programmed. There are three main \\n    types of machine learning: supervised learning, unsupervised learning, and reinforcement \\n    learning. Supervised learning uses labeled data to train models, while unsupervised \\n    learning finds patterns in unlabeled data. Reinforcement learning learns through'),\n",
       " Document(metadata={'source': 'data\\\\doc_0.txt'}, page_content='data. Reinforcement learning learns through \\n    interaction with an environment using rewards and penalties.'),\n",
       " Document(metadata={'source': 'data\\\\doc_1.txt'}, page_content='Deep Learning and Neural Networks\\n\\n    Deep learning is a subset of machine learning based on artificial neural networks. \\n    These networks are inspired by the human brain and consist of layers of interconnected \\n    nodes. Deep learning has revolutionized fields like computer vision, natural language \\n    processing, and speech recognition. Convolutional Neural Networks (CNNs) are particularly \\n    effective for image processing, while Recurrent Neural Networks (RNNs) and Transformers'),\n",
       " Document(metadata={'source': 'data\\\\doc_1.txt'}, page_content='Neural Networks (RNNs) and Transformers \\n    excel at sequential data processing.'),\n",
       " Document(metadata={'source': 'data\\\\doc_2.txt'}, page_content='Natural Language Processing (NLP)\\n\\n    NLP is a field of AI that focuses on the interaction between computers and human language. \\n    Key tasks in NLP include text classification, named entity recognition, sentiment analysis, \\n    machine translation, and question answering. Modern NLP heavily relies on transformer \\n    architectures like BERT, GPT, and T5. These models use attention mechanisms to understand \\n    context and relationships between words in text.')]"
      ]
     },
     "execution_count": 15,
     "metadata": {},
     "output_type": "execute_result"
    }
   ],
   "source": [
    "chunks"
   ]
  },
  {
   "cell_type": "code",
   "execution_count": 16,
   "id": "232e915f",
   "metadata": {},
   "outputs": [
    {
     "name": "stdout",
     "output_type": "stream",
     "text": [
      "Vector store created with 21 vectors\n",
      "Persisted to: ./chroma_db\n"
     ]
    }
   ],
   "source": [
    "## Create a Chromdb vector store\n",
    "persist_directory=\"./chroma_db\"\n",
    "\n",
    "## Initialize Chromadb with Open AI embeddings\n",
    "vectorstore=Chroma.from_documents(\n",
    "    documents=chunks,\n",
    "    embedding=OpenAIEmbeddings(),\n",
    "    persist_directory=persist_directory,\n",
    "    collection_name=\"rag_collection\"\n",
    "\n",
    ")\n",
    "\n",
    "print(f\"Vector store created with {vectorstore._collection.count()} vectors\")\n",
    "print(f\"Persisted to: {persist_directory}\")"
   ]
  },
  {
   "cell_type": "markdown",
   "id": "72fe5ad8",
   "metadata": {},
   "source": [
    "### Test Similarity Search"
   ]
  },
  {
   "cell_type": "code",
   "execution_count": 17,
   "id": "7d85a306",
   "metadata": {},
   "outputs": [
    {
     "data": {
      "text/plain": [
       "[Document(metadata={'source': 'data\\\\doc_0.txt'}, page_content='Machine Learning Fundamentals\\n\\n    Machine learning is a subset of artificial intelligence that enables systems to learn \\n    and improve from experience without being explicitly programmed. There are three main \\n    types of machine learning: supervised learning, unsupervised learning, and reinforcement \\n    learning. Supervised learning uses labeled data to train models, while unsupervised \\n    learning finds patterns in unlabeled data. Reinforcement learning learns through'),\n",
       " Document(metadata={'source': 'data\\\\doc_0.txt'}, page_content='Machine Learning Fundamentals\\n\\n    Machine learning is a subset of artificial intelligence that enables systems to learn \\n    and improve from experience without being explicitly programmed. There are three main \\n    types of machine learning: supervised learning, unsupervised learning, and reinforcement \\n    learning. Supervised learning uses labeled data to train models, while unsupervised \\n    learning finds patterns in unlabeled data. Reinforcement learning learns through'),\n",
       " Document(metadata={'source': 'data\\\\doc_0.txt'}, page_content='Machine Learning Fundamentals\\n\\n    Machine learning is a subset of artificial intelligence that enables systems to learn \\n    and improve from experience without being explicitly programmed. There are three main \\n    types of machine learning: supervised learning, unsupervised learning, and reinforcement \\n    learning. Supervised learning uses labeled data to train models, while unsupervised \\n    learning finds patterns in unlabeled data. Reinforcement learning learns through')]"
      ]
     },
     "execution_count": 17,
     "metadata": {},
     "output_type": "execute_result"
    }
   ],
   "source": [
    "query=\"What are the types of machine learning?\"\n",
    "\n",
    "similar_docs=vectorstore.similarity_search(query,k=3)\n",
    "similar_docs"
   ]
  },
  {
   "cell_type": "code",
   "execution_count": 18,
   "id": "8f103e7a",
   "metadata": {},
   "outputs": [
    {
     "data": {
      "text/plain": [
       "[Document(metadata={'source': 'data\\\\doc_2.txt'}, page_content='Natural Language Processing (NLP)\\n\\n    NLP is a field of AI that focuses on the interaction between computers and human language. \\n    Key tasks in NLP include text classification, named entity recognition, sentiment analysis, \\n    machine translation, and question answering. Modern NLP heavily relies on transformer \\n    architectures like BERT, GPT, and T5. These models use attention mechanisms to understand \\n    context and relationships between words in text.'),\n",
       " Document(metadata={'source': 'data\\\\doc_2.txt'}, page_content='Natural Language Processing (NLP)\\n\\n    NLP is a field of AI that focuses on the interaction between computers and human language. \\n    Key tasks in NLP include text classification, named entity recognition, sentiment analysis, \\n    machine translation, and question answering. Modern NLP heavily relies on transformer \\n    architectures like BERT, GPT, and T5. These models use attention mechanisms to understand \\n    context and relationships between words in text.'),\n",
       " Document(metadata={'source': 'data\\\\doc_2.txt'}, page_content='Natural Language Processing (NLP)\\n\\n    NLP is a field of AI that focuses on the interaction between computers and human language. \\n    Key tasks in NLP include text classification, named entity recognition, sentiment analysis, \\n    machine translation, and question answering. Modern NLP heavily relies on transformer \\n    architectures like BERT, GPT, and T5. These models use attention mechanisms to understand \\n    context and relationships between words in text.')]"
      ]
     },
     "execution_count": 18,
     "metadata": {},
     "output_type": "execute_result"
    }
   ],
   "source": [
    "query=\"what is NLP?\"\n",
    "\n",
    "similar_docs=vectorstore.similarity_search(query,k=3)\n",
    "similar_docs"
   ]
  },
  {
   "cell_type": "code",
   "execution_count": 19,
   "id": "d1ad450c",
   "metadata": {},
   "outputs": [
    {
     "data": {
      "text/plain": [
       "[Document(metadata={'source': 'data\\\\doc_1.txt'}, page_content='Deep Learning and Neural Networks\\n\\n    Deep learning is a subset of machine learning based on artificial neural networks. \\n    These networks are inspired by the human brain and consist of layers of interconnected \\n    nodes. Deep learning has revolutionized fields like computer vision, natural language \\n    processing, and speech recognition. Convolutional Neural Networks (CNNs) are particularly \\n    effective for image processing, while Recurrent Neural Networks (RNNs) and Transformers'),\n",
       " Document(metadata={'source': 'data\\\\doc_1.txt'}, page_content='Deep Learning and Neural Networks\\n\\n    Deep learning is a subset of machine learning based on artificial neural networks. \\n    These networks are inspired by the human brain and consist of layers of interconnected \\n    nodes. Deep learning has revolutionized fields like computer vision, natural language \\n    processing, and speech recognition. Convolutional Neural Networks (CNNs) are particularly \\n    effective for image processing, while Recurrent Neural Networks (RNNs) and Transformers'),\n",
       " Document(metadata={'source': 'data\\\\doc_1.txt'}, page_content='Deep Learning and Neural Networks\\n\\n    Deep learning is a subset of machine learning based on artificial neural networks. \\n    These networks are inspired by the human brain and consist of layers of interconnected \\n    nodes. Deep learning has revolutionized fields like computer vision, natural language \\n    processing, and speech recognition. Convolutional Neural Networks (CNNs) are particularly \\n    effective for image processing, while Recurrent Neural Networks (RNNs) and Transformers')]"
      ]
     },
     "execution_count": 19,
     "metadata": {},
     "output_type": "execute_result"
    }
   ],
   "source": [
    "query=\"what is Deep Learning?\"\n",
    "\n",
    "similar_docs=vectorstore.similarity_search(query,k=3)\n",
    "similar_docs"
   ]
  },
  {
   "cell_type": "code",
   "execution_count": 20,
   "id": "af936dba",
   "metadata": {},
   "outputs": [
    {
     "name": "stdout",
     "output_type": "stream",
     "text": [
      "Query: what is Deep Learning?\n",
      "\n",
      "Top 3 similar chunks:\n",
      "\n",
      "--- Chunk 1 ---\n",
      "Deep Learning and Neural Networks\n",
      "\n",
      "    Deep learning is a subset of machine learning based on artificial neural networks. \n",
      "    These networks are inspired by the human brain and consist of layers of i...\n",
      "Source: data\\doc_1.txt\n",
      "\n",
      "--- Chunk 2 ---\n",
      "Deep Learning and Neural Networks\n",
      "\n",
      "    Deep learning is a subset of machine learning based on artificial neural networks. \n",
      "    These networks are inspired by the human brain and consist of layers of i...\n",
      "Source: data\\doc_1.txt\n",
      "\n",
      "--- Chunk 3 ---\n",
      "Deep Learning and Neural Networks\n",
      "\n",
      "    Deep learning is a subset of machine learning based on artificial neural networks. \n",
      "    These networks are inspired by the human brain and consist of layers of i...\n",
      "Source: data\\doc_1.txt\n"
     ]
    }
   ],
   "source": [
    "print(f\"Query: {query}\")\n",
    "print(f\"\\nTop {len(similar_docs)} similar chunks:\")\n",
    "for i, doc in enumerate(similar_docs):\n",
    "    print(f\"\\n--- Chunk {i+1} ---\")\n",
    "    print(doc.page_content[:200] + \"...\")\n",
    "    print(f\"Source: {doc.metadata.get('source', 'Unknown')}\")"
   ]
  },
  {
   "cell_type": "markdown",
   "id": "af96130b",
   "metadata": {},
   "source": [
    "### Advanced Similarity Search With Scores"
   ]
  },
  {
   "cell_type": "code",
   "execution_count": 21,
   "id": "2a05714c",
   "metadata": {},
   "outputs": [
    {
     "data": {
      "text/plain": [
       "[(Document(metadata={'source': 'data\\\\doc_1.txt'}, page_content='Deep Learning and Neural Networks\\n\\n    Deep learning is a subset of machine learning based on artificial neural networks. \\n    These networks are inspired by the human brain and consist of layers of interconnected \\n    nodes. Deep learning has revolutionized fields like computer vision, natural language \\n    processing, and speech recognition. Convolutional Neural Networks (CNNs) are particularly \\n    effective for image processing, while Recurrent Neural Networks (RNNs) and Transformers'),\n",
       "  0.23794522881507874),\n",
       " (Document(metadata={'source': 'data\\\\doc_1.txt'}, page_content='Deep Learning and Neural Networks\\n\\n    Deep learning is a subset of machine learning based on artificial neural networks. \\n    These networks are inspired by the human brain and consist of layers of interconnected \\n    nodes. Deep learning has revolutionized fields like computer vision, natural language \\n    processing, and speech recognition. Convolutional Neural Networks (CNNs) are particularly \\n    effective for image processing, while Recurrent Neural Networks (RNNs) and Transformers'),\n",
       "  0.23813094198703766),\n",
       " (Document(metadata={'source': 'data\\\\doc_1.txt'}, page_content='Deep Learning and Neural Networks\\n\\n    Deep learning is a subset of machine learning based on artificial neural networks. \\n    These networks are inspired by the human brain and consist of layers of interconnected \\n    nodes. Deep learning has revolutionized fields like computer vision, natural language \\n    processing, and speech recognition. Convolutional Neural Networks (CNNs) are particularly \\n    effective for image processing, while Recurrent Neural Networks (RNNs) and Transformers'),\n",
       "  0.23813094198703766)]"
      ]
     },
     "execution_count": 21,
     "metadata": {},
     "output_type": "execute_result"
    }
   ],
   "source": [
    "results_scores=vectorstore.similarity_search_with_score(query,k=3)\n",
    "results_scores"
   ]
  },
  {
   "cell_type": "markdown",
   "id": "93fa87ef",
   "metadata": {},
   "source": [
    "#### Understanding Similarity Scores\n",
    "The similarity score represents how closely related a document chunk is to your query. The scoring depends on the distance metric used:\n",
    "\n",
    "ChromaDB default: Uses L2 distance (Euclidean distance)\n",
    "\n",
    "- Lower scores = MORE similar (closer in vector space)\n",
    "- Score of 0 = identical vectors\n",
    "- Typical range: 0 to 2 (but can be higher)\n",
    "\n",
    "\n",
    "Cosine similarity (if configured):\n",
    "\n",
    "- Higher scores = MORE similar\n",
    "- Range: -1 to 1 (1 being identical)"
   ]
  },
  {
   "cell_type": "markdown",
   "id": "2f98d2c5",
   "metadata": {},
   "source": [
    "#### Initialize LLM, RAG Chain, Prompt Template,Query the RAG system"
   ]
  },
  {
   "cell_type": "code",
   "execution_count": 22,
   "id": "e11208d8",
   "metadata": {},
   "outputs": [],
   "source": [
    "from langchain_openai import ChatOpenAI\n",
    "\n",
    "llm=ChatOpenAI(\n",
    "    model_name=\"gpt-3.5-turbo\"\n",
    ")\n"
   ]
  },
  {
   "cell_type": "code",
   "execution_count": 23,
   "id": "318caf0c",
   "metadata": {},
   "outputs": [
    {
     "data": {
      "text/plain": [
       "AIMessage(content=\"Large language models are artificial intelligence systems that are trained on vast amounts of text data to understand and generate human-like language. These models are capable of performing a wide range of natural language processing tasks, such as language translation, sentiment analysis, text summarization, and question-answering. They are typically based on deep learning algorithms, such as transformers, and require significant computing resources to train and run. Some well-known examples of large language models include OpenAI's GPT series, Google's BERT, and Facebook's RoBERTa.\", additional_kwargs={'refusal': None}, response_metadata={'token_usage': {'completion_tokens': 109, 'prompt_tokens': 12, 'total_tokens': 121, 'completion_tokens_details': {'accepted_prediction_tokens': 0, 'audio_tokens': 0, 'reasoning_tokens': 0, 'rejected_prediction_tokens': 0}, 'prompt_tokens_details': {'audio_tokens': 0, 'cached_tokens': 0}}, 'model_name': 'gpt-3.5-turbo-0125', 'system_fingerprint': None, 'id': 'chatcmpl-CFygAnE6wqzk6nfSJlzndwRxAU5QE', 'service_tier': 'default', 'finish_reason': 'stop', 'logprobs': None}, id='run--be183bee-c0f3-45cb-87f9-bdf2fb01f158-0', usage_metadata={'input_tokens': 12, 'output_tokens': 109, 'total_tokens': 121, 'input_token_details': {'audio': 0, 'cache_read': 0}, 'output_token_details': {'audio': 0, 'reasoning': 0}})"
      ]
     },
     "execution_count": 23,
     "metadata": {},
     "output_type": "execute_result"
    }
   ],
   "source": [
    "test_response=llm.invoke(\"What is Large Language Models\")\n",
    "test_response"
   ]
  },
  {
   "cell_type": "code",
   "execution_count": 24,
   "id": "155ed230",
   "metadata": {},
   "outputs": [
    {
     "data": {
      "text/plain": [
       "ChatOpenAI(client=<openai.resources.chat.completions.completions.Completions object at 0x00000190345F3C50>, async_client=<openai.resources.chat.completions.completions.AsyncCompletions object at 0x0000019034609AC0>, root_client=<openai.OpenAI object at 0x00000190345EB290>, root_async_client=<openai.AsyncOpenAI object at 0x0000019034609160>, model_kwargs={}, openai_api_key=SecretStr('**********'))"
      ]
     },
     "execution_count": 24,
     "metadata": {},
     "output_type": "execute_result"
    }
   ],
   "source": [
    "from langchain.chat_models.base import init_chat_model\n",
    "\n",
    "llm=init_chat_model(\"openai:gpt-3.5-turbo\")\n",
    "#llm=init_chat_model(\"groq:\")\n",
    "llm"
   ]
  },
  {
   "cell_type": "code",
   "execution_count": 25,
   "id": "4d478885",
   "metadata": {},
   "outputs": [
    {
     "data": {
      "text/plain": [
       "AIMessage(content='AI, or artificial intelligence, refers to the development of computer systems that are able to perform tasks that typically require human intelligence, such as visual perception, speech recognition, decision-making, and language translation. AI utilizes algorithms and machine learning techniques to analyze data, learn from previous experiences, and adapt to new information, allowing it to make predictions, solve problems, and perform various tasks without direct human intervention. AI technologies are becoming increasingly integrated into various industries, including healthcare, finance, transportation, and entertainment, and are expected to continue shaping the future of technologic advancements and automation.', additional_kwargs={'refusal': None}, response_metadata={'token_usage': {'completion_tokens': 115, 'prompt_tokens': 10, 'total_tokens': 125, 'completion_tokens_details': {'accepted_prediction_tokens': 0, 'audio_tokens': 0, 'reasoning_tokens': 0, 'rejected_prediction_tokens': 0}, 'prompt_tokens_details': {'audio_tokens': 0, 'cached_tokens': 0}}, 'model_name': 'gpt-3.5-turbo-0125', 'system_fingerprint': None, 'id': 'chatcmpl-CFygCjjskUKrTdvQ6QzuRrwyw83wH', 'service_tier': 'default', 'finish_reason': 'stop', 'logprobs': None}, id='run--7e9e6a0f-617a-4517-948b-401b06bfdf1c-0', usage_metadata={'input_tokens': 10, 'output_tokens': 115, 'total_tokens': 125, 'input_token_details': {'audio': 0, 'cache_read': 0}, 'output_token_details': {'audio': 0, 'reasoning': 0}})"
      ]
     },
     "execution_count": 25,
     "metadata": {},
     "output_type": "execute_result"
    }
   ],
   "source": [
    "llm.invoke(\"What is AI\")"
   ]
  },
  {
   "cell_type": "markdown",
   "id": "ef478ac6",
   "metadata": {},
   "source": [
    "### Modern RAG Chain"
   ]
  },
  {
   "cell_type": "code",
   "execution_count": 26,
   "id": "1d2fce8f",
   "metadata": {},
   "outputs": [],
   "source": [
    "from langchain.chains import create_retrieval_chain\n",
    "from langchain_core.prompts import ChatPromptTemplate\n",
    "from langchain.chains.combine_documents import create_stuff_documents_chain"
   ]
  },
  {
   "cell_type": "code",
   "execution_count": 27,
   "id": "a72069a5",
   "metadata": {},
   "outputs": [
    {
     "data": {
      "text/plain": [
       "VectorStoreRetriever(tags=['Chroma', 'OpenAIEmbeddings'], vectorstore=<langchain_community.vectorstores.chroma.Chroma object at 0x0000019031DFC350>, search_kwargs={})"
      ]
     },
     "execution_count": 27,
     "metadata": {},
     "output_type": "execute_result"
    }
   ],
   "source": [
    "## Convert vector store to retriever\n",
    "retriever=vectorstore.as_retriever(\n",
    "    search_kwarg={\"k\":3} ## Retrieve top 3 relevant chunks\n",
    ")\n",
    "retriever"
   ]
  },
  {
   "cell_type": "code",
   "execution_count": 28,
   "id": "20c9ffd3",
   "metadata": {},
   "outputs": [],
   "source": [
    "## Create a prompt template\n",
    "from langchain_core.prompts import ChatPromptTemplate\n",
    "system_prompt=\"\"\"You are an assistant for question-answering tasks. \n",
    "Use the following pieces of retrieved context to answer the question. \n",
    "If you don't know the answer, just say that you don't know. \n",
    "Use three sentences maximum and keep the answer concise.\n",
    "\n",
    "Context: {context}\"\"\"\n",
    "\n",
    "prompt = ChatPromptTemplate.from_messages([\n",
    "    (\"system\", system_prompt),\n",
    "    (\"human\", \"{input}\")\n",
    "])"
   ]
  },
  {
   "cell_type": "code",
   "execution_count": 29,
   "id": "5beb8805",
   "metadata": {},
   "outputs": [
    {
     "data": {
      "text/plain": [
       "ChatPromptTemplate(input_variables=['context', 'input'], input_types={}, partial_variables={}, messages=[SystemMessagePromptTemplate(prompt=PromptTemplate(input_variables=['context'], input_types={}, partial_variables={}, template=\"You are an assistant for question-answering tasks. \\nUse the following pieces of retrieved context to answer the question. \\nIf you don't know the answer, just say that you don't know. \\nUse three sentences maximum and keep the answer concise.\\n\\nContext: {context}\"), additional_kwargs={}), HumanMessagePromptTemplate(prompt=PromptTemplate(input_variables=['input'], input_types={}, partial_variables={}, template='{input}'), additional_kwargs={})])"
      ]
     },
     "execution_count": 29,
     "metadata": {},
     "output_type": "execute_result"
    }
   ],
   "source": [
    "prompt"
   ]
  },
  {
   "cell_type": "markdown",
   "id": "9c970780",
   "metadata": {},
   "source": [
    "##### What is create_stuff_documents_chain?\n",
    "create_stuff_documents_chain creates a chain that \"stuffs\" (inserts) all retrieved documents into a single prompt and sends it to the LLM. It's called \"stuff\" because it literally stuffs all the documents into the context window at once."
   ]
  },
  {
   "cell_type": "code",
   "execution_count": 30,
   "id": "a79afdd0",
   "metadata": {},
   "outputs": [
    {
     "data": {
      "text/plain": [
       "RunnableBinding(bound=RunnableBinding(bound=RunnableAssign(mapper={\n",
       "  context: RunnableLambda(format_docs)\n",
       "}), kwargs={}, config={'run_name': 'format_inputs'}, config_factories=[])\n",
       "| ChatPromptTemplate(input_variables=['context', 'input'], input_types={}, partial_variables={}, messages=[SystemMessagePromptTemplate(prompt=PromptTemplate(input_variables=['context'], input_types={}, partial_variables={}, template=\"You are an assistant for question-answering tasks. \\nUse the following pieces of retrieved context to answer the question. \\nIf you don't know the answer, just say that you don't know. \\nUse three sentences maximum and keep the answer concise.\\n\\nContext: {context}\"), additional_kwargs={}), HumanMessagePromptTemplate(prompt=PromptTemplate(input_variables=['input'], input_types={}, partial_variables={}, template='{input}'), additional_kwargs={})])\n",
       "| ChatOpenAI(client=<openai.resources.chat.completions.completions.Completions object at 0x00000190345F3C50>, async_client=<openai.resources.chat.completions.completions.AsyncCompletions object at 0x0000019034609AC0>, root_client=<openai.OpenAI object at 0x00000190345EB290>, root_async_client=<openai.AsyncOpenAI object at 0x0000019034609160>, model_kwargs={}, openai_api_key=SecretStr('**********'))\n",
       "| StrOutputParser(), kwargs={}, config={'run_name': 'stuff_documents_chain'}, config_factories=[])"
      ]
     },
     "execution_count": 30,
     "metadata": {},
     "output_type": "execute_result"
    }
   ],
   "source": [
    "### Create a document chain\n",
    "from langchain.chains.combine_documents import create_stuff_documents_chain\n",
    "document_chain=create_stuff_documents_chain(llm,prompt)\n",
    "document_chain"
   ]
  },
  {
   "cell_type": "markdown",
   "id": "bf2630f2",
   "metadata": {},
   "source": [
    "This chain:\n",
    "\n",
    "- Takes retrieved documents\n",
    "- \"Stuffs\" them into the prompt's {context} placeholder\n",
    "- Sends the complete prompt to the LLM\n",
    "- Returns the LLM's response"
   ]
  },
  {
   "cell_type": "markdown",
   "id": "f1d67cf5",
   "metadata": {},
   "source": [
    "#### What is create_retrieval_chain?\n",
    "create_retrieval_chain is a function that combines a retriever (which fetches relevant documents) with a document chain (which processes those documents with an LLM) to create a complete RAG pipeline."
   ]
  },
  {
   "cell_type": "code",
   "execution_count": 31,
   "id": "21706431",
   "metadata": {},
   "outputs": [
    {
     "data": {
      "text/plain": [
       "RunnableBinding(bound=RunnableAssign(mapper={\n",
       "  context: RunnableBinding(bound=RunnableLambda(lambda x: x['input'])\n",
       "           | VectorStoreRetriever(tags=['Chroma', 'OpenAIEmbeddings'], vectorstore=<langchain_community.vectorstores.chroma.Chroma object at 0x0000019031DFC350>, search_kwargs={}), kwargs={}, config={'run_name': 'retrieve_documents'}, config_factories=[])\n",
       "})\n",
       "| RunnableAssign(mapper={\n",
       "    answer: RunnableBinding(bound=RunnableBinding(bound=RunnableAssign(mapper={\n",
       "              context: RunnableLambda(format_docs)\n",
       "            }), kwargs={}, config={'run_name': 'format_inputs'}, config_factories=[])\n",
       "            | ChatPromptTemplate(input_variables=['context', 'input'], input_types={}, partial_variables={}, messages=[SystemMessagePromptTemplate(prompt=PromptTemplate(input_variables=['context'], input_types={}, partial_variables={}, template=\"You are an assistant for question-answering tasks. \\nUse the following pieces of retrieved context to answer the question. \\nIf you don't know the answer, just say that you don't know. \\nUse three sentences maximum and keep the answer concise.\\n\\nContext: {context}\"), additional_kwargs={}), HumanMessagePromptTemplate(prompt=PromptTemplate(input_variables=['input'], input_types={}, partial_variables={}, template='{input}'), additional_kwargs={})])\n",
       "            | ChatOpenAI(client=<openai.resources.chat.completions.completions.Completions object at 0x00000190345F3C50>, async_client=<openai.resources.chat.completions.completions.AsyncCompletions object at 0x0000019034609AC0>, root_client=<openai.OpenAI object at 0x00000190345EB290>, root_async_client=<openai.AsyncOpenAI object at 0x0000019034609160>, model_kwargs={}, openai_api_key=SecretStr('**********'))\n",
       "            | StrOutputParser(), kwargs={}, config={'run_name': 'stuff_documents_chain'}, config_factories=[])\n",
       "  }), kwargs={}, config={'run_name': 'retrieval_chain'}, config_factories=[])"
      ]
     },
     "execution_count": 31,
     "metadata": {},
     "output_type": "execute_result"
    }
   ],
   "source": [
    "### Create The Final RAG Chain\n",
    "from langchain.chains import create_retrieval_chain\n",
    "rag_chain=create_retrieval_chain(retriever,document_chain)\n",
    "rag_chain"
   ]
  },
  {
   "cell_type": "code",
   "execution_count": null,
   "id": "e2294a3e",
   "metadata": {},
   "outputs": [],
   "source": []
  },
  {
   "cell_type": "code",
   "execution_count": 32,
   "id": "f7a92b1a",
   "metadata": {},
   "outputs": [],
   "source": [
    "response=rag_chain.invoke({\"input\":\"What is Deep LEarning\"})"
   ]
  },
  {
   "cell_type": "code",
   "execution_count": 33,
   "id": "36712cd0",
   "metadata": {},
   "outputs": [
    {
     "data": {
      "text/plain": [
       "{'input': 'What is Deep LEarning',\n",
       " 'context': [Document(metadata={'source': 'data\\\\doc_1.txt'}, page_content='Deep Learning and Neural Networks\\n\\n    Deep learning is a subset of machine learning based on artificial neural networks. \\n    These networks are inspired by the human brain and consist of layers of interconnected \\n    nodes. Deep learning has revolutionized fields like computer vision, natural language \\n    processing, and speech recognition. Convolutional Neural Networks (CNNs) are particularly \\n    effective for image processing, while Recurrent Neural Networks (RNNs) and Transformers'),\n",
       "  Document(metadata={'source': 'data\\\\doc_1.txt'}, page_content='Deep Learning and Neural Networks\\n\\n    Deep learning is a subset of machine learning based on artificial neural networks. \\n    These networks are inspired by the human brain and consist of layers of interconnected \\n    nodes. Deep learning has revolutionized fields like computer vision, natural language \\n    processing, and speech recognition. Convolutional Neural Networks (CNNs) are particularly \\n    effective for image processing, while Recurrent Neural Networks (RNNs) and Transformers'),\n",
       "  Document(metadata={'source': 'data\\\\doc_1.txt'}, page_content='Deep Learning and Neural Networks\\n\\n    Deep learning is a subset of machine learning based on artificial neural networks. \\n    These networks are inspired by the human brain and consist of layers of interconnected \\n    nodes. Deep learning has revolutionized fields like computer vision, natural language \\n    processing, and speech recognition. Convolutional Neural Networks (CNNs) are particularly \\n    effective for image processing, while Recurrent Neural Networks (RNNs) and Transformers'),\n",
       "  Document(metadata={'source': 'manual_addition', 'topic': 'reinforcement_learning'}, page_content='Reinforcement Learning in Detail\\n\\nReinforcement learning (RL) is a type of machine learning where an agent learns to make \\ndecisions by interacting with an environment. The agent receives rewards or penalties \\nbased on its actions and learns to maximize cumulative reward over time. Key concepts \\nin RL include: states, actions, rewards, policies, and value functions. Popular RL \\nalgorithms include Q-learning, Deep Q-Networks (DQN), Policy Gradient methods, and \\nActor-Critic methods. RL has been')],\n",
       " 'answer': 'Deep learning is a subset of machine learning that relies on artificial neural networks inspired by the human brain, consisting of interconnected layers of nodes. It has significantly impacted various fields such as computer vision, natural language processing, and speech recognition. Deep learning techniques have enabled advancements like Convolutional Neural Networks (CNNs) for image processing and Recurrent Neural Networks (RNNs) for sequential data analysis.'}"
      ]
     },
     "execution_count": 33,
     "metadata": {},
     "output_type": "execute_result"
    }
   ],
   "source": [
    "response"
   ]
  },
  {
   "cell_type": "code",
   "execution_count": 34,
   "id": "643b720e",
   "metadata": {},
   "outputs": [
    {
     "data": {
      "text/plain": [
       "'Deep learning is a subset of machine learning that relies on artificial neural networks inspired by the human brain, consisting of interconnected layers of nodes. It has significantly impacted various fields such as computer vision, natural language processing, and speech recognition. Deep learning techniques have enabled advancements like Convolutional Neural Networks (CNNs) for image processing and Recurrent Neural Networks (RNNs) for sequential data analysis.'"
      ]
     },
     "execution_count": 34,
     "metadata": {},
     "output_type": "execute_result"
    }
   ],
   "source": [
    "response['answer']"
   ]
  },
  {
   "cell_type": "code",
   "execution_count": 35,
   "id": "cd9528d5",
   "metadata": {},
   "outputs": [
    {
     "name": "stdout",
     "output_type": "stream",
     "text": [
      "Question: What are the three types of machine learning?\n",
      "--------------------------------------------------\n",
      "Answer: The three main types of machine learning are supervised learning, unsupervised learning, and reinforcement learning. Supervised learning uses labeled data for training, unsupervised learning finds patterns in unlabeled data, and reinforcement learning learns through a system of rewards and punishments.\n",
      "\n",
      "Retrieved Context:\n",
      "\n",
      "--- Source 1 ---\n",
      "Machine Learning Fundamentals\n",
      "\n",
      "    Machine learning is a subset of artificial intelligence that enables systems to learn \n",
      "    and improve from experience without being explicitly programmed. There are...\n",
      "\n",
      "--- Source 2 ---\n",
      "Machine Learning Fundamentals\n",
      "\n",
      "    Machine learning is a subset of artificial intelligence that enables systems to learn \n",
      "    and improve from experience without being explicitly programmed. There are...\n",
      "\n",
      "--- Source 3 ---\n",
      "Machine Learning Fundamentals\n",
      "\n",
      "    Machine learning is a subset of artificial intelligence that enables systems to learn \n",
      "    and improve from experience without being explicitly programmed. There are...\n",
      "\n",
      "--- Source 4 ---\n",
      "Deep Learning and Neural Networks\n",
      "\n",
      "    Deep learning is a subset of machine learning based on artificial neural networks. \n",
      "    These networks are inspired by the human brain and consist of layers of i...\n",
      "\n",
      "================================================================================\n",
      "\n",
      "Question: What is deep learning and how does it relate to neural networks?\n",
      "--------------------------------------------------\n",
      "Answer: Deep learning is a subset of machine learning that utilizes artificial neural networks inspired by the human brain. These networks consist of interconnected nodes arranged in layers. Deep learning has significantly impacted various fields like computer vision, natural language processing, and speech recognition.\n",
      "\n",
      "Retrieved Context:\n",
      "\n",
      "--- Source 1 ---\n",
      "Deep Learning and Neural Networks\n",
      "\n",
      "    Deep learning is a subset of machine learning based on artificial neural networks. \n",
      "    These networks are inspired by the human brain and consist of layers of i...\n",
      "\n",
      "--- Source 2 ---\n",
      "Deep Learning and Neural Networks\n",
      "\n",
      "    Deep learning is a subset of machine learning based on artificial neural networks. \n",
      "    These networks are inspired by the human brain and consist of layers of i...\n",
      "\n",
      "--- Source 3 ---\n",
      "Deep Learning and Neural Networks\n",
      "\n",
      "    Deep learning is a subset of machine learning based on artificial neural networks. \n",
      "    These networks are inspired by the human brain and consist of layers of i...\n",
      "\n",
      "--- Source 4 ---\n",
      "Neural Networks (RNNs) and Transformers \n",
      "    excel at sequential data processing....\n",
      "\n",
      "================================================================================\n",
      "\n",
      "Question: What are CNNs best used for?\n",
      "--------------------------------------------------\n",
      "Answer: CNNs are particularly effective for image processing due to their ability to extract features from visual data through convolutional layers. They have revolutionized fields like computer vision by achieving impressive performance in tasks such as object detection and image classification.\n",
      "\n",
      "Retrieved Context:\n",
      "\n",
      "--- Source 1 ---\n",
      "Deep Learning and Neural Networks\n",
      "\n",
      "    Deep learning is a subset of machine learning based on artificial neural networks. \n",
      "    These networks are inspired by the human brain and consist of layers of i...\n",
      "\n",
      "--- Source 2 ---\n",
      "Deep Learning and Neural Networks\n",
      "\n",
      "    Deep learning is a subset of machine learning based on artificial neural networks. \n",
      "    These networks are inspired by the human brain and consist of layers of i...\n",
      "\n",
      "--- Source 3 ---\n",
      "Deep Learning and Neural Networks\n",
      "\n",
      "    Deep learning is a subset of machine learning based on artificial neural networks. \n",
      "    These networks are inspired by the human brain and consist of layers of i...\n",
      "\n",
      "--- Source 4 ---\n",
      "Neural Networks (RNNs) and Transformers \n",
      "    excel at sequential data processing....\n",
      "\n",
      "================================================================================\n",
      "\n"
     ]
    }
   ],
   "source": [
    "# Function to query the modern RAG system\n",
    "def query_rag_modern(question):\n",
    "    print(f\"Question: {question}\")\n",
    "    print(\"-\" * 50)\n",
    "    \n",
    "    # Using create_retrieval_chain approach\n",
    "    result = rag_chain.invoke({\"input\": question})\n",
    "    \n",
    "    print(f\"Answer: {result['answer']}\")\n",
    "    print(\"\\nRetrieved Context:\")\n",
    "    for i, doc in enumerate(result['context']):\n",
    "        print(f\"\\n--- Source {i+1} ---\")\n",
    "        print(doc.page_content[:200] + \"...\")\n",
    "    \n",
    "    return result\n",
    "\n",
    "# Test queries\n",
    "test_questions = [\n",
    "    \"What are the three types of machine learning?\",\n",
    "    \"What is deep learning and how does it relate to neural networks?\",\n",
    "    \"What are CNNs best used for?\"\n",
    "]\n",
    "\n",
    "for question in test_questions:\n",
    "    result = query_rag_modern(question)\n",
    "    print(\"\\n\" + \"=\"*80 + \"\\n\")"
   ]
  },
  {
   "cell_type": "markdown",
   "id": "cb95621f",
   "metadata": {},
   "source": [
    "### Create RAG Chain Alternative - Using LCEL (LangChain Expression Language)"
   ]
  },
  {
   "cell_type": "code",
   "execution_count": 36,
   "id": "2648ce74",
   "metadata": {},
   "outputs": [],
   "source": [
    "# Even more flexible approach using LCEL\n",
    "from langchain_core.output_parsers import StrOutputParser\n",
    "from langchain_core.runnables import RunnablePassthrough, RunnableParallel"
   ]
  },
  {
   "cell_type": "code",
   "execution_count": 37,
   "id": "5b38f31a",
   "metadata": {},
   "outputs": [
    {
     "data": {
      "text/plain": [
       "ChatPromptTemplate(input_variables=['context', 'question'], input_types={}, partial_variables={}, messages=[HumanMessagePromptTemplate(prompt=PromptTemplate(input_variables=['context', 'question'], input_types={}, partial_variables={}, template=\"Use the following context to answer the question. \\nIf you don't know the answer based on the context, say you don't know.\\nProvide specific details from the context to support your answer.\\n\\nContext:\\n{context}\\n\\nQuestion: {question}\\n\\nAnswer:\"), additional_kwargs={})])"
      ]
     },
     "execution_count": 37,
     "metadata": {},
     "output_type": "execute_result"
    }
   ],
   "source": [
    "# Create a custom prompt\n",
    "custom_prompt = ChatPromptTemplate.from_template(\"\"\"Use the following context to answer the question. \n",
    "If you don't know the answer based on the context, say you don't know.\n",
    "Provide specific details from the context to support your answer.\n",
    "\n",
    "Context:\n",
    "{context}\n",
    "\n",
    "Question: {question}\n",
    "\n",
    "Answer:\"\"\")\n",
    "custom_prompt"
   ]
  },
  {
   "cell_type": "code",
   "execution_count": 38,
   "id": "64c39bc3",
   "metadata": {},
   "outputs": [
    {
     "data": {
      "text/plain": [
       "VectorStoreRetriever(tags=['Chroma', 'OpenAIEmbeddings'], vectorstore=<langchain_community.vectorstores.chroma.Chroma object at 0x0000019031DFC350>, search_kwargs={})"
      ]
     },
     "execution_count": 38,
     "metadata": {},
     "output_type": "execute_result"
    }
   ],
   "source": [
    "retriever"
   ]
  },
  {
   "cell_type": "code",
   "execution_count": 39,
   "id": "eb38511d",
   "metadata": {},
   "outputs": [],
   "source": [
    "## Format the output documents for the prompt\n",
    "def format_docs(docs):\n",
    "    return \"\\n\\n\".join(doc.page_content for doc in docs)"
   ]
  },
  {
   "cell_type": "code",
   "execution_count": 40,
   "id": "57ece729",
   "metadata": {},
   "outputs": [
    {
     "data": {
      "text/plain": [
       "{\n",
       "  context: VectorStoreRetriever(tags=['Chroma', 'OpenAIEmbeddings'], vectorstore=<langchain_community.vectorstores.chroma.Chroma object at 0x0000019031DFC350>, search_kwargs={})\n",
       "           | RunnableLambda(format_docs),\n",
       "  question: RunnablePassthrough()\n",
       "}\n",
       "| ChatPromptTemplate(input_variables=['context', 'question'], input_types={}, partial_variables={}, messages=[HumanMessagePromptTemplate(prompt=PromptTemplate(input_variables=['context', 'question'], input_types={}, partial_variables={}, template=\"Use the following context to answer the question. \\nIf you don't know the answer based on the context, say you don't know.\\nProvide specific details from the context to support your answer.\\n\\nContext:\\n{context}\\n\\nQuestion: {question}\\n\\nAnswer:\"), additional_kwargs={})])\n",
       "| ChatOpenAI(client=<openai.resources.chat.completions.completions.Completions object at 0x00000190345F3C50>, async_client=<openai.resources.chat.completions.completions.AsyncCompletions object at 0x0000019034609AC0>, root_client=<openai.OpenAI object at 0x00000190345EB290>, root_async_client=<openai.AsyncOpenAI object at 0x0000019034609160>, model_kwargs={}, openai_api_key=SecretStr('**********'))\n",
       "| StrOutputParser()"
      ]
     },
     "execution_count": 40,
     "metadata": {},
     "output_type": "execute_result"
    }
   ],
   "source": [
    "## Build the chain ussing LCEL\n",
    "\n",
    "rag_chain_lcel=(\n",
    "    { \n",
    "        \"context\":retriever | format_docs,\n",
    "        \"question\": RunnablePassthrough()\n",
    "     }\n",
    "    | custom_prompt\n",
    "    | llm\n",
    "    | StrOutputParser()\n",
    ")\n",
    "\n",
    "rag_chain_lcel"
   ]
  },
  {
   "cell_type": "code",
   "execution_count": 41,
   "id": "8662d849",
   "metadata": {},
   "outputs": [
    {
     "data": {
      "text/plain": [
       "'Deep learning is a subset of machine learning based on artificial neural networks. These networks consist of layers of interconnected nodes and are inspired by the human brain. Deep learning has revolutionized fields like computer vision, natural language processing, and speech recognition.'"
      ]
     },
     "execution_count": 41,
     "metadata": {},
     "output_type": "execute_result"
    }
   ],
   "source": [
    "response=rag_chain_lcel.invoke(\"What is Deep Learning\")\n",
    "response"
   ]
  },
  {
   "cell_type": "code",
   "execution_count": 42,
   "id": "156ef293",
   "metadata": {},
   "outputs": [
    {
     "name": "stderr",
     "output_type": "stream",
     "text": [
      "C:\\Users\\Subhajit\\AppData\\Local\\Temp\\ipykernel_34900\\458153282.py:1: LangChainDeprecationWarning: The method `BaseRetriever.get_relevant_documents` was deprecated in langchain-core 0.1.46 and will be removed in 1.0. Use :meth:`~invoke` instead.\n",
      "  retriever.get_relevant_documents(\"What is Deep Learning\")\n"
     ]
    },
    {
     "data": {
      "text/plain": [
       "[Document(metadata={'source': 'data\\\\doc_1.txt'}, page_content='Deep Learning and Neural Networks\\n\\n    Deep learning is a subset of machine learning based on artificial neural networks. \\n    These networks are inspired by the human brain and consist of layers of interconnected \\n    nodes. Deep learning has revolutionized fields like computer vision, natural language \\n    processing, and speech recognition. Convolutional Neural Networks (CNNs) are particularly \\n    effective for image processing, while Recurrent Neural Networks (RNNs) and Transformers'),\n",
       " Document(metadata={'source': 'data\\\\doc_1.txt'}, page_content='Deep Learning and Neural Networks\\n\\n    Deep learning is a subset of machine learning based on artificial neural networks. \\n    These networks are inspired by the human brain and consist of layers of interconnected \\n    nodes. Deep learning has revolutionized fields like computer vision, natural language \\n    processing, and speech recognition. Convolutional Neural Networks (CNNs) are particularly \\n    effective for image processing, while Recurrent Neural Networks (RNNs) and Transformers'),\n",
       " Document(metadata={'source': 'data\\\\doc_1.txt'}, page_content='Deep Learning and Neural Networks\\n\\n    Deep learning is a subset of machine learning based on artificial neural networks. \\n    These networks are inspired by the human brain and consist of layers of interconnected \\n    nodes. Deep learning has revolutionized fields like computer vision, natural language \\n    processing, and speech recognition. Convolutional Neural Networks (CNNs) are particularly \\n    effective for image processing, while Recurrent Neural Networks (RNNs) and Transformers'),\n",
       " Document(metadata={'source': 'data\\\\doc_0.txt'}, page_content='Machine Learning Fundamentals\\n\\n    Machine learning is a subset of artificial intelligence that enables systems to learn \\n    and improve from experience without being explicitly programmed. There are three main \\n    types of machine learning: supervised learning, unsupervised learning, and reinforcement \\n    learning. Supervised learning uses labeled data to train models, while unsupervised \\n    learning finds patterns in unlabeled data. Reinforcement learning learns through')]"
      ]
     },
     "execution_count": 42,
     "metadata": {},
     "output_type": "execute_result"
    }
   ],
   "source": [
    "retriever.get_relevant_documents(\"What is Deep Learning\")"
   ]
  },
  {
   "cell_type": "code",
   "execution_count": 43,
   "id": "682eb95b",
   "metadata": {},
   "outputs": [],
   "source": [
    "# Query using the LCEL approach - Fixed version\n",
    "def query_rag_lcel(question):\n",
    "    print(f\"Question: {question}\")\n",
    "    print(\"-\" * 50)\n",
    "    \n",
    "    # Method 1: Pass string directly (when using RunnablePassthrough)\n",
    "    answer = rag_chain_lcel.invoke(question)\n",
    "    print(f\"Answer: {answer}\")\n",
    "    \n",
    "    # Get source documents separately if needed\n",
    "    docs = retriever.get_relevant_documents(question)\n",
    "    print(\"\\nSource Documents:\")\n",
    "    for i, doc in enumerate(docs):\n",
    "        print(f\"\\n--- Source {i+1} ---\")\n",
    "        print(doc.page_content[:200] + \"...\")"
   ]
  },
  {
   "cell_type": "code",
   "execution_count": 44,
   "id": "fac30700",
   "metadata": {},
   "outputs": [
    {
     "name": "stdout",
     "output_type": "stream",
     "text": [
      "Testing LCEL Chain:\n",
      "Question: What are the key concepts in reinforcement learning?\n",
      "--------------------------------------------------\n",
      "Answer: The key concepts in reinforcement learning are states, actions, rewards, policies, and value functions.\n",
      "\n",
      "Source Documents:\n",
      "\n",
      "--- Source 1 ---\n",
      "Reinforcement Learning in Detail\n",
      "\n",
      "Reinforcement learning (RL) is a type of machine learning where an agent learns to make \n",
      "decisions by interacting with an environment. The agent receives rewards or p...\n",
      "\n",
      "--- Source 2 ---\n",
      "Reinforcement Learning in Detail\n",
      "\n",
      "Reinforcement learning (RL) is a type of machine learning where an agent learns to make \n",
      "decisions by interacting with an environment. The agent receives rewards or p...\n",
      "\n",
      "--- Source 3 ---\n",
      "Reinforcement Learning in Detail\n",
      "\n",
      "Reinforcement learning (RL) is a type of machine learning where an agent learns to make \n",
      "decisions by interacting with an environment. The agent receives rewards or p...\n",
      "\n",
      "--- Source 4 ---\n",
      "data. Reinforcement learning learns through \n",
      "    interaction with an environment using rewards and penalties....\n"
     ]
    }
   ],
   "source": [
    "# Test LCEL chain\n",
    "print(\"Testing LCEL Chain:\")\n",
    "query_rag_lcel(\"What are the key concepts in reinforcement learning?\")"
   ]
  },
  {
   "cell_type": "code",
   "execution_count": 45,
   "id": "d0e5f487",
   "metadata": {},
   "outputs": [
    {
     "name": "stdout",
     "output_type": "stream",
     "text": [
      "Question: What is machine learning?\n",
      "--------------------------------------------------\n",
      "Answer: Machine learning is a subset of artificial intelligence that enables systems to learn and improve from experience without being explicitly programmed. It involves three main types: supervised learning, unsupervised learning, and reinforcement learning.\n",
      "\n",
      "Source Documents:\n",
      "\n",
      "--- Source 1 ---\n",
      "Machine Learning Fundamentals\n",
      "\n",
      "    Machine learning is a subset of artificial intelligence that enables systems to learn \n",
      "    and improve from experience without being explicitly programmed. There are...\n",
      "\n",
      "--- Source 2 ---\n",
      "Machine Learning Fundamentals\n",
      "\n",
      "    Machine learning is a subset of artificial intelligence that enables systems to learn \n",
      "    and improve from experience without being explicitly programmed. There are...\n",
      "\n",
      "--- Source 3 ---\n",
      "Machine Learning Fundamentals\n",
      "\n",
      "    Machine learning is a subset of artificial intelligence that enables systems to learn \n",
      "    and improve from experience without being explicitly programmed. There are...\n",
      "\n",
      "--- Source 4 ---\n",
      "Deep Learning and Neural Networks\n",
      "\n",
      "    Deep learning is a subset of machine learning based on artificial neural networks. \n",
      "    These networks are inspired by the human brain and consist of layers of i...\n"
     ]
    }
   ],
   "source": [
    "query_rag_lcel(\"What is machine learning?\")"
   ]
  },
  {
   "cell_type": "code",
   "execution_count": 46,
   "id": "7530816c",
   "metadata": {},
   "outputs": [
    {
     "name": "stdout",
     "output_type": "stream",
     "text": [
      "Question: What is depe learning?\n",
      "--------------------------------------------------\n",
      "Answer: Deep learning is a subset of machine learning based on artificial neural networks. These networks are inspired by the human brain and consist of layers of interconnected nodes. Deep learning has revolutionized fields like computer vision, natural language processing, and speech recognition.\n",
      "\n",
      "Source Documents:\n",
      "\n",
      "--- Source 1 ---\n",
      "Deep Learning and Neural Networks\n",
      "\n",
      "    Deep learning is a subset of machine learning based on artificial neural networks. \n",
      "    These networks are inspired by the human brain and consist of layers of i...\n",
      "\n",
      "--- Source 2 ---\n",
      "Deep Learning and Neural Networks\n",
      "\n",
      "    Deep learning is a subset of machine learning based on artificial neural networks. \n",
      "    These networks are inspired by the human brain and consist of layers of i...\n",
      "\n",
      "--- Source 3 ---\n",
      "Deep Learning and Neural Networks\n",
      "\n",
      "    Deep learning is a subset of machine learning based on artificial neural networks. \n",
      "    These networks are inspired by the human brain and consist of layers of i...\n",
      "\n",
      "--- Source 4 ---\n",
      "Machine Learning Fundamentals\n",
      "\n",
      "    Machine learning is a subset of artificial intelligence that enables systems to learn \n",
      "    and improve from experience without being explicitly programmed. There are...\n"
     ]
    }
   ],
   "source": [
    "query_rag_lcel(\"What is depe learning?\")"
   ]
  },
  {
   "cell_type": "markdown",
   "id": "0869510c",
   "metadata": {},
   "source": [
    "### Add New Documents To Existing Vector Store"
   ]
  },
  {
   "cell_type": "code",
   "execution_count": 47,
   "id": "c464cf32",
   "metadata": {},
   "outputs": [
    {
     "data": {
      "text/plain": [
       "<langchain_community.vectorstores.chroma.Chroma at 0x19031dfc350>"
      ]
     },
     "execution_count": 47,
     "metadata": {},
     "output_type": "execute_result"
    }
   ],
   "source": [
    "vectorstore"
   ]
  },
  {
   "cell_type": "code",
   "execution_count": 48,
   "id": "5c379255",
   "metadata": {},
   "outputs": [],
   "source": [
    "# Add new documents to the existing vector store\n",
    "new_document = \"\"\"\n",
    "Reinforcement Learning in Detail\n",
    "\n",
    "Reinforcement learning (RL) is a type of machine learning where an agent learns to make \n",
    "decisions by interacting with an environment. The agent receives rewards or penalties \n",
    "based on its actions and learns to maximize cumulative reward over time. Key concepts \n",
    "in RL include: states, actions, rewards, policies, and value functions. Popular RL \n",
    "algorithms include Q-learning, Deep Q-Networks (DQN), Policy Gradient methods, and \n",
    "Actor-Critic methods. RL has been successfully applied to game playing (like AlphaGo), \n",
    "robotics, and autonomous systems.\n",
    "\"\"\""
   ]
  },
  {
   "cell_type": "code",
   "execution_count": 49,
   "id": "5b431aee",
   "metadata": {},
   "outputs": [
    {
     "data": {
      "text/plain": [
       "'\\nReinforcement Learning in Detail\\n\\nReinforcement learning (RL) is a type of machine learning where an agent learns to make \\ndecisions by interacting with an environment. The agent receives rewards or penalties \\nbased on its actions and learns to maximize cumulative reward over time. Key concepts \\nin RL include: states, actions, rewards, policies, and value functions. Popular RL \\nalgorithms include Q-learning, Deep Q-Networks (DQN), Policy Gradient methods, and \\nActor-Critic methods. RL has been successfully applied to game playing (like AlphaGo), \\nrobotics, and autonomous systems.\\n'"
      ]
     },
     "execution_count": 49,
     "metadata": {},
     "output_type": "execute_result"
    }
   ],
   "source": [
    "new_document"
   ]
  },
  {
   "cell_type": "code",
   "execution_count": 50,
   "id": "7bd5df9f",
   "metadata": {},
   "outputs": [
    {
     "data": {
      "text/plain": [
       "[Document(metadata={'source': 'data\\\\doc_0.txt'}, page_content='Machine Learning Fundamentals\\n\\n    Machine learning is a subset of artificial intelligence that enables systems to learn \\n    and improve from experience without being explicitly programmed. There are three main \\n    types of machine learning: supervised learning, unsupervised learning, and reinforcement \\n    learning. Supervised learning uses labeled data to train models, while unsupervised \\n    learning finds patterns in unlabeled data. Reinforcement learning learns through'),\n",
       " Document(metadata={'source': 'data\\\\doc_0.txt'}, page_content='data. Reinforcement learning learns through \\n    interaction with an environment using rewards and penalties.'),\n",
       " Document(metadata={'source': 'data\\\\doc_1.txt'}, page_content='Deep Learning and Neural Networks\\n\\n    Deep learning is a subset of machine learning based on artificial neural networks. \\n    These networks are inspired by the human brain and consist of layers of interconnected \\n    nodes. Deep learning has revolutionized fields like computer vision, natural language \\n    processing, and speech recognition. Convolutional Neural Networks (CNNs) are particularly \\n    effective for image processing, while Recurrent Neural Networks (RNNs) and Transformers'),\n",
       " Document(metadata={'source': 'data\\\\doc_1.txt'}, page_content='Neural Networks (RNNs) and Transformers \\n    excel at sequential data processing.'),\n",
       " Document(metadata={'source': 'data\\\\doc_2.txt'}, page_content='Natural Language Processing (NLP)\\n\\n    NLP is a field of AI that focuses on the interaction between computers and human language. \\n    Key tasks in NLP include text classification, named entity recognition, sentiment analysis, \\n    machine translation, and question answering. Modern NLP heavily relies on transformer \\n    architectures like BERT, GPT, and T5. These models use attention mechanisms to understand \\n    context and relationships between words in text.')]"
      ]
     },
     "execution_count": 50,
     "metadata": {},
     "output_type": "execute_result"
    }
   ],
   "source": [
    "chunks"
   ]
  },
  {
   "cell_type": "code",
   "execution_count": 51,
   "id": "894dd275",
   "metadata": {},
   "outputs": [],
   "source": [
    "new_doc=Document(\n",
    "    page_content=new_document,\n",
    "    metadata={\"source\": \"manual_addition\", \"topic\": \"reinforcement_learning\"}\n",
    ")"
   ]
  },
  {
   "cell_type": "code",
   "execution_count": 52,
   "id": "15f35837",
   "metadata": {},
   "outputs": [
    {
     "data": {
      "text/plain": [
       "Document(metadata={'source': 'manual_addition', 'topic': 'reinforcement_learning'}, page_content='\\nReinforcement Learning in Detail\\n\\nReinforcement learning (RL) is a type of machine learning where an agent learns to make \\ndecisions by interacting with an environment. The agent receives rewards or penalties \\nbased on its actions and learns to maximize cumulative reward over time. Key concepts \\nin RL include: states, actions, rewards, policies, and value functions. Popular RL \\nalgorithms include Q-learning, Deep Q-Networks (DQN), Policy Gradient methods, and \\nActor-Critic methods. RL has been successfully applied to game playing (like AlphaGo), \\nrobotics, and autonomous systems.\\n')"
      ]
     },
     "execution_count": 52,
     "metadata": {},
     "output_type": "execute_result"
    }
   ],
   "source": [
    "new_doc"
   ]
  },
  {
   "cell_type": "code",
   "execution_count": 53,
   "id": "16202c1b",
   "metadata": {},
   "outputs": [
    {
     "data": {
      "text/plain": [
       "[Document(metadata={'source': 'manual_addition', 'topic': 'reinforcement_learning'}, page_content='Reinforcement Learning in Detail\\n\\nReinforcement learning (RL) is a type of machine learning where an agent learns to make \\ndecisions by interacting with an environment. The agent receives rewards or penalties \\nbased on its actions and learns to maximize cumulative reward over time. Key concepts \\nin RL include: states, actions, rewards, policies, and value functions. Popular RL \\nalgorithms include Q-learning, Deep Q-Networks (DQN), Policy Gradient methods, and \\nActor-Critic methods. RL has been'),\n",
       " Document(metadata={'source': 'manual_addition', 'topic': 'reinforcement_learning'}, page_content='methods, and \\nActor-Critic methods. RL has been successfully applied to game playing (like AlphaGo), \\nrobotics, and autonomous systems.')]"
      ]
     },
     "execution_count": 53,
     "metadata": {},
     "output_type": "execute_result"
    }
   ],
   "source": [
    "## split the documents\n",
    "new_chunks=text_splitter.split_documents([new_doc])\n",
    "new_chunks"
   ]
  },
  {
   "cell_type": "code",
   "execution_count": 54,
   "id": "f91ae2fd",
   "metadata": {},
   "outputs": [
    {
     "data": {
      "text/plain": [
       "['62fe4fd7-b222-4a9d-9445-17c600b7beca',\n",
       " 'bdbaa40a-b03b-4c39-bf34-c9bb09cd22eb']"
      ]
     },
     "execution_count": 54,
     "metadata": {},
     "output_type": "execute_result"
    }
   ],
   "source": [
    "### Add new documents to vectorstore\n",
    "vectorstore.add_documents(new_chunks)\n",
    "\n"
   ]
  },
  {
   "cell_type": "code",
   "execution_count": 55,
   "id": "d3384f76",
   "metadata": {},
   "outputs": [
    {
     "name": "stdout",
     "output_type": "stream",
     "text": [
      "Added 2 new chunks to the vector store\n",
      "Total vectors now: 23\n"
     ]
    }
   ],
   "source": [
    "print(f\"Added {len(new_chunks)} new chunks to the vector store\")\n",
    "print(f\"Total vectors now: {vectorstore._collection.count()}\")"
   ]
  },
  {
   "cell_type": "code",
   "execution_count": 56,
   "id": "32c2680f",
   "metadata": {},
   "outputs": [
    {
     "name": "stdout",
     "output_type": "stream",
     "text": [
      "Question: What are the keys concepts in reinforcement learning\n",
      "--------------------------------------------------\n",
      "Answer: The key concepts in reinforcement learning are states, actions, rewards, policies, and value functions.\n",
      "\n",
      "Source Documents:\n",
      "\n",
      "--- Source 1 ---\n",
      "Reinforcement Learning in Detail\n",
      "\n",
      "Reinforcement learning (RL) is a type of machine learning where an agent learns to make \n",
      "decisions by interacting with an environment. The agent receives rewards or p...\n",
      "\n",
      "--- Source 2 ---\n",
      "Reinforcement Learning in Detail\n",
      "\n",
      "Reinforcement learning (RL) is a type of machine learning where an agent learns to make \n",
      "decisions by interacting with an environment. The agent receives rewards or p...\n",
      "\n",
      "--- Source 3 ---\n",
      "Reinforcement Learning in Detail\n",
      "\n",
      "Reinforcement learning (RL) is a type of machine learning where an agent learns to make \n",
      "decisions by interacting with an environment. The agent receives rewards or p...\n",
      "\n",
      "--- Source 4 ---\n",
      "data. Reinforcement learning learns through \n",
      "    interaction with an environment using rewards and penalties....\n"
     ]
    }
   ],
   "source": [
    "## query with the updated vector\n",
    "new_question=\"What are the keys concepts in reinforcement learning\"\n",
    "result=query_rag_lcel(new_question)\n",
    "result"
   ]
  },
  {
   "cell_type": "markdown",
   "id": "6cd68b1f",
   "metadata": {},
   "source": [
    "### Advanced Rag Techniques- Conversational Memory\n",
    "Understanding Conversational Memory in RAG\n",
    "Conversational memory enables RAG systems to maintain context across multiple interactions. This is crucial for:\n",
    "\n",
    "Follow-up questions that reference previous answers\n",
    "Pronoun resolution (e.g., \"it\", \"they\", \"that\")\n",
    "Context-dependent queries that build on prior discussion\n",
    "Natural dialogue flow where users don't repeat context\n",
    "\n",
    "Key Challenge:\n",
    "Traditional RAG retrieves documents based only on the current query, missing important context from the conversation. For example:\n",
    "\n",
    "User: \"Tell me about Python\"\n",
    "Bot: explains Python programming language\n",
    "User: \"What are its main libraries?\" ← \"its\" refers to Python, but retriever doesn't know this\n",
    "\n",
    "Solution:\n",
    "The modern approach uses a two-step process:\n",
    "\n",
    "Query Reformulation: Transform context-dependent questions into standalone queries\n",
    "Context-Aware Retrieval: Use the reformulated query to fetch relevant documents"
   ]
  },
  {
   "cell_type": "markdown",
   "id": "e9189de7",
   "metadata": {},
   "source": [
    "- create_history_aware_retriever: Makes the retriever understand conversation context\n",
    "- MessagesPlaceholder: Placeholder for chat history in prompts\n",
    "- HumanMessage/AIMessage: Structured message types for conversation history"
   ]
  },
  {
   "cell_type": "code",
   "execution_count": null,
   "id": "7649bae5",
   "metadata": {},
   "outputs": [],
   "source": []
  },
  {
   "cell_type": "code",
   "execution_count": 57,
   "id": "7198db6c",
   "metadata": {},
   "outputs": [],
   "source": [
    "from langchain.chains import create_history_aware_retriever\n",
    "from langchain_core.prompts import MessagesPlaceholder\n",
    "from langchain_core.messages import HumanMessage, AIMessage"
   ]
  },
  {
   "cell_type": "code",
   "execution_count": 58,
   "id": "eaa69a98",
   "metadata": {},
   "outputs": [],
   "source": [
    "## create a prompt that includes the chat history\n",
    "contextualize_q_system_prompt = \"\"\"Given a chat history and the latest user question \n",
    "which might reference context in the chat history, formulate a standalone question \n",
    "which can be understood without the chat history. Do NOT answer the question, \n",
    "just reformulate it if needed and otherwise return it as is.\"\"\"\n",
    "\n",
    "contextualize_q_prompt = ChatPromptTemplate.from_messages([\n",
    "    (\"system\", contextualize_q_system_prompt),\n",
    "    MessagesPlaceholder(\"chat_history\"),\n",
    "    (\"human\", \"{input}\"),\n",
    "])"
   ]
  },
  {
   "cell_type": "code",
   "execution_count": 59,
   "id": "4424ee54",
   "metadata": {},
   "outputs": [
    {
     "data": {
      "text/plain": [
       "RunnableBinding(bound=RunnableBranch(branches=[(RunnableLambda(lambda x: not x.get('chat_history', False)), RunnableLambda(lambda x: x['input'])\n",
       "| VectorStoreRetriever(tags=['Chroma', 'OpenAIEmbeddings'], vectorstore=<langchain_community.vectorstores.chroma.Chroma object at 0x0000019031DFC350>, search_kwargs={}))], default=ChatPromptTemplate(input_variables=['chat_history', 'input'], input_types={'chat_history': list[typing.Annotated[typing.Union[typing.Annotated[langchain_core.messages.ai.AIMessage, Tag(tag='ai')], typing.Annotated[langchain_core.messages.human.HumanMessage, Tag(tag='human')], typing.Annotated[langchain_core.messages.chat.ChatMessage, Tag(tag='chat')], typing.Annotated[langchain_core.messages.system.SystemMessage, Tag(tag='system')], typing.Annotated[langchain_core.messages.function.FunctionMessage, Tag(tag='function')], typing.Annotated[langchain_core.messages.tool.ToolMessage, Tag(tag='tool')], typing.Annotated[langchain_core.messages.ai.AIMessageChunk, Tag(tag='AIMessageChunk')], typing.Annotated[langchain_core.messages.human.HumanMessageChunk, Tag(tag='HumanMessageChunk')], typing.Annotated[langchain_core.messages.chat.ChatMessageChunk, Tag(tag='ChatMessageChunk')], typing.Annotated[langchain_core.messages.system.SystemMessageChunk, Tag(tag='SystemMessageChunk')], typing.Annotated[langchain_core.messages.function.FunctionMessageChunk, Tag(tag='FunctionMessageChunk')], typing.Annotated[langchain_core.messages.tool.ToolMessageChunk, Tag(tag='ToolMessageChunk')]], FieldInfo(annotation=NoneType, required=True, discriminator=Discriminator(discriminator=<function _get_type at 0x0000019021574900>, custom_error_type=None, custom_error_message=None, custom_error_context=None))]]}, partial_variables={}, messages=[SystemMessagePromptTemplate(prompt=PromptTemplate(input_variables=[], input_types={}, partial_variables={}, template='Given a chat history and the latest user question \\nwhich might reference context in the chat history, formulate a standalone question \\nwhich can be understood without the chat history. Do NOT answer the question, \\njust reformulate it if needed and otherwise return it as is.'), additional_kwargs={}), MessagesPlaceholder(variable_name='chat_history'), HumanMessagePromptTemplate(prompt=PromptTemplate(input_variables=['input'], input_types={}, partial_variables={}, template='{input}'), additional_kwargs={})])\n",
       "| ChatOpenAI(client=<openai.resources.chat.completions.completions.Completions object at 0x00000190345F3C50>, async_client=<openai.resources.chat.completions.completions.AsyncCompletions object at 0x0000019034609AC0>, root_client=<openai.OpenAI object at 0x00000190345EB290>, root_async_client=<openai.AsyncOpenAI object at 0x0000019034609160>, model_kwargs={}, openai_api_key=SecretStr('**********'))\n",
       "| StrOutputParser()\n",
       "| VectorStoreRetriever(tags=['Chroma', 'OpenAIEmbeddings'], vectorstore=<langchain_community.vectorstores.chroma.Chroma object at 0x0000019031DFC350>, search_kwargs={})), kwargs={}, config={'run_name': 'chat_retriever_chain'}, config_factories=[])"
      ]
     },
     "execution_count": 59,
     "metadata": {},
     "output_type": "execute_result"
    }
   ],
   "source": [
    "## create history aware retriever\n",
    "history_aware_retriever = create_history_aware_retriever(\n",
    "    llm, retriever, contextualize_q_prompt\n",
    ")\n",
    "history_aware_retriever"
   ]
  },
  {
   "cell_type": "code",
   "execution_count": 60,
   "id": "49143814",
   "metadata": {},
   "outputs": [
    {
     "name": "stdout",
     "output_type": "stream",
     "text": [
      "Conversational RAG chain created!\n"
     ]
    }
   ],
   "source": [
    "# Create a new document chain with history\n",
    "qa_system_prompt = \"\"\"You are an assistant for question-answering tasks. \n",
    "Use the following pieces of retrieved context to answer the question. \n",
    "If you don't know the answer, just say that you don't know. \n",
    "Use three sentences maximum and keep the answer concise.\n",
    "\n",
    "Context: {context}\"\"\"\n",
    "\n",
    "qa_prompt = ChatPromptTemplate.from_messages([\n",
    "    (\"system\", qa_system_prompt),\n",
    "    MessagesPlaceholder(\"chat_history\"),\n",
    "    (\"human\", \"{input}\"),\n",
    "])\n",
    "\n",
    "question_answer_chain = create_stuff_documents_chain(llm, qa_prompt)\n",
    "\n",
    "# Create conversational RAG chain\n",
    "conversational_rag_chain = create_retrieval_chain(\n",
    "    history_aware_retriever, \n",
    "    question_answer_chain\n",
    ")\n",
    "print(\"Conversational RAG chain created!\")"
   ]
  },
  {
   "cell_type": "code",
   "execution_count": 61,
   "id": "0d7aa4dd",
   "metadata": {},
   "outputs": [
    {
     "name": "stdout",
     "output_type": "stream",
     "text": [
      "Q: What is machine learning?\n",
      "A: Machine learning is a subset of artificial intelligence that allows systems to learn and improve from experience without being explicitly programmed. It consists of three main types: supervised learning, unsupervised learning, and reinforcement learning. Supervised learning uses labeled data, unsupervised learning finds patterns in unlabeled data, and reinforcement learning learns through a system of rewards.\n"
     ]
    }
   ],
   "source": [
    "chat_history=[]\n",
    "# First question\n",
    "result1 = conversational_rag_chain.invoke({\n",
    "    \"chat_history\": chat_history,\n",
    "    \"input\": \"What is machine learning?\"\n",
    "})\n",
    "print(f\"Q: What is machine learning?\")\n",
    "print(f\"A: {result1['answer']}\")"
   ]
  },
  {
   "cell_type": "code",
   "execution_count": 62,
   "id": "628e28f3",
   "metadata": {},
   "outputs": [],
   "source": [
    "\n",
    "\n",
    "chat_history.extend([\n",
    "    HumanMessage(content=\"What is machine learning\"),\n",
    "    AIMessage(content=result1['answer'])\n",
    "])"
   ]
  },
  {
   "cell_type": "code",
   "execution_count": 63,
   "id": "234e65ab",
   "metadata": {},
   "outputs": [
    {
     "data": {
      "text/plain": [
       "[HumanMessage(content='What is machine learning', additional_kwargs={}, response_metadata={}),\n",
       " AIMessage(content='Machine learning is a subset of artificial intelligence that allows systems to learn and improve from experience without being explicitly programmed. It consists of three main types: supervised learning, unsupervised learning, and reinforcement learning. Supervised learning uses labeled data, unsupervised learning finds patterns in unlabeled data, and reinforcement learning learns through a system of rewards.', additional_kwargs={}, response_metadata={})]"
      ]
     },
     "execution_count": 63,
     "metadata": {},
     "output_type": "execute_result"
    }
   ],
   "source": [
    "chat_history"
   ]
  },
  {
   "cell_type": "code",
   "execution_count": 64,
   "id": "67bca7fa",
   "metadata": {},
   "outputs": [
    {
     "data": {
      "text/plain": [
       "{'chat_history': [HumanMessage(content='What is machine learning', additional_kwargs={}, response_metadata={}),\n",
       "  AIMessage(content='Machine learning is a subset of artificial intelligence that allows systems to learn and improve from experience without being explicitly programmed. It consists of three main types: supervised learning, unsupervised learning, and reinforcement learning. Supervised learning uses labeled data, unsupervised learning finds patterns in unlabeled data, and reinforcement learning learns through a system of rewards.', additional_kwargs={}, response_metadata={})],\n",
       " 'input': 'What are its main types?',\n",
       " 'context': [Document(metadata={'source': 'data\\\\doc_0.txt'}, page_content='Machine Learning Fundamentals\\n\\n    Machine learning is a subset of artificial intelligence that enables systems to learn \\n    and improve from experience without being explicitly programmed. There are three main \\n    types of machine learning: supervised learning, unsupervised learning, and reinforcement \\n    learning. Supervised learning uses labeled data to train models, while unsupervised \\n    learning finds patterns in unlabeled data. Reinforcement learning learns through'),\n",
       "  Document(metadata={'source': 'data\\\\doc_0.txt'}, page_content='Machine Learning Fundamentals\\n\\n    Machine learning is a subset of artificial intelligence that enables systems to learn \\n    and improve from experience without being explicitly programmed. There are three main \\n    types of machine learning: supervised learning, unsupervised learning, and reinforcement \\n    learning. Supervised learning uses labeled data to train models, while unsupervised \\n    learning finds patterns in unlabeled data. Reinforcement learning learns through'),\n",
       "  Document(metadata={'source': 'data\\\\doc_0.txt'}, page_content='Machine Learning Fundamentals\\n\\n    Machine learning is a subset of artificial intelligence that enables systems to learn \\n    and improve from experience without being explicitly programmed. There are three main \\n    types of machine learning: supervised learning, unsupervised learning, and reinforcement \\n    learning. Supervised learning uses labeled data to train models, while unsupervised \\n    learning finds patterns in unlabeled data. Reinforcement learning learns through'),\n",
       "  Document(metadata={'source': 'data\\\\doc_1.txt'}, page_content='Deep Learning and Neural Networks\\n\\n    Deep learning is a subset of machine learning based on artificial neural networks. \\n    These networks are inspired by the human brain and consist of layers of interconnected \\n    nodes. Deep learning has revolutionized fields like computer vision, natural language \\n    processing, and speech recognition. Convolutional Neural Networks (CNNs) are particularly \\n    effective for image processing, while Recurrent Neural Networks (RNNs) and Transformers')],\n",
       " 'answer': 'The main types of machine learning are supervised learning, unsupervised learning, and reinforcement learning. Supervised learning uses labeled data to train models, unsupervised learning finds patterns in unlabeled data, and reinforcement learning learns through a system of rewards.'}"
      ]
     },
     "execution_count": 64,
     "metadata": {},
     "output_type": "execute_result"
    }
   ],
   "source": [
    "## Follow up question\n",
    "# Follow-up question\n",
    "result2 = conversational_rag_chain.invoke({\n",
    "    \"chat_history\": chat_history,\n",
    "    \"input\": \"What are its main types?\"  # Refers to ML from previous question\n",
    "})\n",
    "result2"
   ]
  },
  {
   "cell_type": "code",
   "execution_count": 65,
   "id": "d28231be",
   "metadata": {},
   "outputs": [
    {
     "data": {
      "text/plain": [
       "'The main types of machine learning are supervised learning, unsupervised learning, and reinforcement learning. Supervised learning uses labeled data to train models, unsupervised learning finds patterns in unlabeled data, and reinforcement learning learns through a system of rewards.'"
      ]
     },
     "execution_count": 65,
     "metadata": {},
     "output_type": "execute_result"
    }
   ],
   "source": [
    "result2['answer']"
   ]
  },
  {
   "cell_type": "markdown",
   "id": "e79e708a",
   "metadata": {},
   "source": [
    "### Using GROQ LLM's\n",
    " "
   ]
  },
  {
   "cell_type": "code",
   "execution_count": 66,
   "id": "1b0e7c9b",
   "metadata": {},
   "outputs": [
    {
     "data": {
      "text/plain": [
       "ChatOpenAI(client=<openai.resources.chat.completions.completions.Completions object at 0x00000190345F3C50>, async_client=<openai.resources.chat.completions.completions.AsyncCompletions object at 0x0000019034609AC0>, root_client=<openai.OpenAI object at 0x00000190345EB290>, root_async_client=<openai.AsyncOpenAI object at 0x0000019034609160>, model_kwargs={}, openai_api_key=SecretStr('**********'))"
      ]
     },
     "execution_count": 66,
     "metadata": {},
     "output_type": "execute_result"
    }
   ],
   "source": [
    "llm"
   ]
  },
  {
   "cell_type": "code",
   "execution_count": 67,
   "id": "fecb894b",
   "metadata": {},
   "outputs": [
    {
     "data": {
      "text/plain": [
       "True"
      ]
     },
     "execution_count": 67,
     "metadata": {},
     "output_type": "execute_result"
    }
   ],
   "source": [
    "load_dotenv()"
   ]
  },
  {
   "cell_type": "code",
   "execution_count": 68,
   "id": "b30d3a00",
   "metadata": {},
   "outputs": [
    {
     "data": {
      "text/plain": [
       "'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'"
      ]
     },
     "execution_count": 68,
     "metadata": {},
     "output_type": "execute_result"
    }
   ],
   "source": [
    "os.getenv(\"GROQ_API_KEY\")"
   ]
  },
  {
   "cell_type": "code",
   "execution_count": 69,
   "id": "071e36cd",
   "metadata": {},
   "outputs": [],
   "source": [
    "from langchain_groq import ChatGroq\n",
    "from langchain.chat_models import init_chat_model"
   ]
  },
  {
   "cell_type": "code",
   "execution_count": 70,
   "id": "cc59ce15",
   "metadata": {},
   "outputs": [],
   "source": [
    "os.environ[\"GROQ_API_KEY\"]=os.getenv(\"GROQ_API_KEY\")"
   ]
  },
  {
   "cell_type": "code",
   "execution_count": 71,
   "id": "46eabd46",
   "metadata": {},
   "outputs": [
    {
     "data": {
      "text/plain": [
       "ChatGroq(client=<groq.resources.chat.completions.Completions object at 0x00000190324AF0E0>, async_client=<groq.resources.chat.completions.AsyncCompletions object at 0x00000190398FF950>, model_name='gemma2-9b-it', model_kwargs={}, groq_api_key=SecretStr('**********'))"
      ]
     },
     "execution_count": 71,
     "metadata": {},
     "output_type": "execute_result"
    }
   ],
   "source": [
    "llm=ChatGroq(model=\"gemma2-9b-it\",api_key=os.getenv(\"GROQ_API_KEY\"))\n",
    "llm"
   ]
  },
  {
   "cell_type": "code",
   "execution_count": 72,
   "id": "9d8ce892",
   "metadata": {},
   "outputs": [
    {
     "data": {
      "text/plain": [
       "ChatGroq(client=<groq.resources.chat.completions.Completions object at 0x00000190398FF6B0>, async_client=<groq.resources.chat.completions.AsyncCompletions object at 0x00000190399001A0>, model_name='gemma2-9b-it', model_kwargs={}, groq_api_key=SecretStr('**********'))"
      ]
     },
     "execution_count": 72,
     "metadata": {},
     "output_type": "execute_result"
    }
   ],
   "source": [
    "llm=init_chat_model(model=\"groq:gemma2-9b-it\")\n",
    "llm"
   ]
  },
  {
   "cell_type": "code",
   "execution_count": null,
   "id": "d2f01718",
   "metadata": {},
   "outputs": [],
   "source": []
  }
 ],
 "metadata": {
  "kernelspec": {
   "display_name": "EUacademy",
   "language": "python",
   "name": "python3"
  },
  "language_info": {
   "codemirror_mode": {
    "name": "ipython",
    "version": 3
   },
   "file_extension": ".py",
   "mimetype": "text/x-python",
   "name": "python",
   "nbconvert_exporter": "python",
   "pygments_lexer": "ipython3",
   "version": "3.12.7"
  }
 },
 "nbformat": 4,
 "nbformat_minor": 5
}
